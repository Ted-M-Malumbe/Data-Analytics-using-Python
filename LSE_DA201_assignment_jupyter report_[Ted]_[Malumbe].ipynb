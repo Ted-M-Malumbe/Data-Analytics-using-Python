{
 "cells": [
  {
   "cell_type": "markdown",
   "id": "2ead8d91",
   "metadata": {},
   "source": [
    "# Ted Malumbe Data Analytics with Python for the UK Government Data Set\n",
    "**The purpose of this demostration is to illustrate the Data Analytics process of the sample data**"
   ]
  },
  {
   "cell_type": "markdown",
   "id": "36ed5e86",
   "metadata": {},
   "source": [
    "# 1. Data Importation"
   ]
  },
  {
   "cell_type": "code",
   "execution_count": 142,
   "id": "d8603b96",
   "metadata": {},
   "outputs": [
    {
     "data": {
      "text/plain": [
       "<Figure size 1080x288 with 0 Axes>"
      ]
     },
     "execution_count": 142,
     "metadata": {},
     "output_type": "execute_result"
    },
    {
     "data": {
      "text/plain": [
       "<Figure size 1080x288 with 0 Axes>"
      ]
     },
     "metadata": {},
     "output_type": "display_data"
    }
   ],
   "source": [
    "# Importing the python libraries\n",
    "#Basics\n",
    "import pandas as pd\n",
    "import numpy as py\n",
    "from datetime import datetime\n",
    "\n",
    "#Visualisation\n",
    "import seaborn as sns\n",
    "import matplotlib.pyplot as plt\n",
    "\n",
    "# Load the data set\n",
    "uk_covid_cases = pd.read_csv('covid_19_uk_cases.csv')\n",
    "uk_vaccinations = pd.read_csv('covid_19_uk_vaccinated.csv')\n",
    "global_covid_cases = pd.read_csv('global_data.csv')\n",
    "global_twitter_info = pd.read_csv('tweets.csv')\n",
    "global_twitter_info_two = pd.read_csv('tweets_2.csv')\n",
    "\n",
    "# set figure size for all charts\n",
    "plt.figure(figsize=(15,4))"
   ]
  },
  {
   "cell_type": "markdown",
   "id": "ab5b66d3",
   "metadata": {},
   "source": [
    "# 2. Data Exploration"
   ]
  },
  {
   "cell_type": "code",
   "execution_count": 77,
   "id": "e8fa47a9",
   "metadata": {},
   "outputs": [
    {
     "data": {
      "text/html": [
       "<div>\n",
       "<style scoped>\n",
       "    .dataframe tbody tr th:only-of-type {\n",
       "        vertical-align: middle;\n",
       "    }\n",
       "\n",
       "    .dataframe tbody tr th {\n",
       "        vertical-align: top;\n",
       "    }\n",
       "\n",
       "    .dataframe thead th {\n",
       "        text-align: right;\n",
       "    }\n",
       "</style>\n",
       "<table border=\"1\" class=\"dataframe\">\n",
       "  <thead>\n",
       "    <tr style=\"text-align: right;\">\n",
       "      <th></th>\n",
       "      <th>Province/State</th>\n",
       "      <th>Country/Region</th>\n",
       "      <th>Lat</th>\n",
       "      <th>Long</th>\n",
       "      <th>ISO 3166-1 Alpha 3-Codes</th>\n",
       "      <th>Sub-region Name</th>\n",
       "      <th>Intermediate Region Code</th>\n",
       "      <th>Date</th>\n",
       "      <th>Deaths</th>\n",
       "      <th>Cases</th>\n",
       "      <th>Recovered</th>\n",
       "      <th>Hospitalised</th>\n",
       "    </tr>\n",
       "  </thead>\n",
       "  <tbody>\n",
       "    <tr>\n",
       "      <th>0</th>\n",
       "      <td>Anguilla</td>\n",
       "      <td>United Kingdom</td>\n",
       "      <td>18.2206</td>\n",
       "      <td>-63.0686</td>\n",
       "      <td>AIA</td>\n",
       "      <td>Latin America and the Caribbean</td>\n",
       "      <td>29</td>\n",
       "      <td>2020-01-22</td>\n",
       "      <td>0.0</td>\n",
       "      <td>0.0</td>\n",
       "      <td>0.0</td>\n",
       "      <td>0.0</td>\n",
       "    </tr>\n",
       "    <tr>\n",
       "      <th>1</th>\n",
       "      <td>Anguilla</td>\n",
       "      <td>United Kingdom</td>\n",
       "      <td>18.2206</td>\n",
       "      <td>-63.0686</td>\n",
       "      <td>AIA</td>\n",
       "      <td>Latin America and the Caribbean</td>\n",
       "      <td>29</td>\n",
       "      <td>2020-01-23</td>\n",
       "      <td>0.0</td>\n",
       "      <td>0.0</td>\n",
       "      <td>0.0</td>\n",
       "      <td>0.0</td>\n",
       "    </tr>\n",
       "  </tbody>\n",
       "</table>\n",
       "</div>"
      ],
      "text/plain": [
       "  Province/State  Country/Region      Lat     Long ISO 3166-1 Alpha 3-Codes  \\\n",
       "0       Anguilla  United Kingdom  18.2206 -63.0686                      AIA   \n",
       "1       Anguilla  United Kingdom  18.2206 -63.0686                      AIA   \n",
       "\n",
       "                   Sub-region Name  Intermediate Region Code        Date  \\\n",
       "0  Latin America and the Caribbean                        29  2020-01-22   \n",
       "1  Latin America and the Caribbean                        29  2020-01-23   \n",
       "\n",
       "   Deaths  Cases  Recovered  Hospitalised  \n",
       "0     0.0    0.0        0.0           0.0  \n",
       "1     0.0    0.0        0.0           0.0  "
      ]
     },
     "execution_count": 77,
     "metadata": {},
     "output_type": "execute_result"
    }
   ],
   "source": [
    "#Understand the uk_covid_cases dataframe but limit to 2 rows\n",
    "uk_covid_cases.head(2)"
   ]
  },
  {
   "cell_type": "code",
   "execution_count": 78,
   "id": "882c8245",
   "metadata": {},
   "outputs": [],
   "source": [
    "#convert date to DateTime format\n",
    "uk_covid_cases['Date'] = pd.to_datetime(uk_covid_cases['Date'])"
   ]
  },
  {
   "cell_type": "code",
   "execution_count": 79,
   "id": "64d83637",
   "metadata": {},
   "outputs": [
    {
     "name": "stdout",
     "output_type": "stream",
     "text": [
      "(7584, 12)\n",
      "Province/State                      object\n",
      "Country/Region                      object\n",
      "Lat                                float64\n",
      "Long                               float64\n",
      "ISO 3166-1 Alpha 3-Codes            object\n",
      "Sub-region Name                     object\n",
      "Intermediate Region Code             int64\n",
      "Date                        datetime64[ns]\n",
      "Deaths                             float64\n",
      "Cases                              float64\n",
      "Recovered                          float64\n",
      "Hospitalised                       float64\n",
      "dtype: object\n"
     ]
    }
   ],
   "source": [
    "#Describe the shape of the uk_covid_cases data and understand the structure\n",
    "print(uk_covid_cases.shape)\n",
    "print(uk_covid_cases.dtypes)"
   ]
  },
  {
   "cell_type": "code",
   "execution_count": 80,
   "id": "4c148c42",
   "metadata": {},
   "outputs": [
    {
     "data": {
      "text/html": [
       "<div>\n",
       "<style scoped>\n",
       "    .dataframe tbody tr th:only-of-type {\n",
       "        vertical-align: middle;\n",
       "    }\n",
       "\n",
       "    .dataframe tbody tr th {\n",
       "        vertical-align: top;\n",
       "    }\n",
       "\n",
       "    .dataframe thead th {\n",
       "        text-align: right;\n",
       "    }\n",
       "</style>\n",
       "<table border=\"1\" class=\"dataframe\">\n",
       "  <thead>\n",
       "    <tr style=\"text-align: right;\">\n",
       "      <th></th>\n",
       "      <th>Province/State</th>\n",
       "      <th>Country/Region</th>\n",
       "      <th>Lat</th>\n",
       "      <th>Long</th>\n",
       "      <th>ISO 3166-1 Alpha 3-Codes</th>\n",
       "      <th>Sub-region Name</th>\n",
       "      <th>Intermediate Region Code</th>\n",
       "      <th>Date</th>\n",
       "      <th>Vaccinated</th>\n",
       "      <th>First Dose</th>\n",
       "      <th>Second Dose</th>\n",
       "    </tr>\n",
       "  </thead>\n",
       "  <tbody>\n",
       "    <tr>\n",
       "      <th>0</th>\n",
       "      <td>Anguilla</td>\n",
       "      <td>United Kingdom</td>\n",
       "      <td>18.2206</td>\n",
       "      <td>-63.0686</td>\n",
       "      <td>AIA</td>\n",
       "      <td>Latin America and the Caribbean</td>\n",
       "      <td>29</td>\n",
       "      <td>2020-01-22</td>\n",
       "      <td>0</td>\n",
       "      <td>0</td>\n",
       "      <td>0</td>\n",
       "    </tr>\n",
       "    <tr>\n",
       "      <th>1</th>\n",
       "      <td>Anguilla</td>\n",
       "      <td>United Kingdom</td>\n",
       "      <td>18.2206</td>\n",
       "      <td>-63.0686</td>\n",
       "      <td>AIA</td>\n",
       "      <td>Latin America and the Caribbean</td>\n",
       "      <td>29</td>\n",
       "      <td>2020-01-23</td>\n",
       "      <td>0</td>\n",
       "      <td>0</td>\n",
       "      <td>0</td>\n",
       "    </tr>\n",
       "  </tbody>\n",
       "</table>\n",
       "</div>"
      ],
      "text/plain": [
       "  Province/State  Country/Region      Lat     Long ISO 3166-1 Alpha 3-Codes  \\\n",
       "0       Anguilla  United Kingdom  18.2206 -63.0686                      AIA   \n",
       "1       Anguilla  United Kingdom  18.2206 -63.0686                      AIA   \n",
       "\n",
       "                   Sub-region Name  Intermediate Region Code        Date  \\\n",
       "0  Latin America and the Caribbean                        29  2020-01-22   \n",
       "1  Latin America and the Caribbean                        29  2020-01-23   \n",
       "\n",
       "   Vaccinated  First Dose  Second Dose  \n",
       "0           0           0            0  \n",
       "1           0           0            0  "
      ]
     },
     "execution_count": 80,
     "metadata": {},
     "output_type": "execute_result"
    }
   ],
   "source": [
    "#Understand the uk_vaccinations dataframe but limit to 2 rows\n",
    "uk_vaccinations.head(2)"
   ]
  },
  {
   "cell_type": "code",
   "execution_count": 81,
   "id": "5e6f1f8d",
   "metadata": {},
   "outputs": [],
   "source": [
    "#convert date to DateTime format\n",
    "uk_vaccinations['Date'] = pd.to_datetime(uk_vaccinations['Date'])"
   ]
  },
  {
   "cell_type": "code",
   "execution_count": 82,
   "id": "2d20a574",
   "metadata": {},
   "outputs": [
    {
     "name": "stdout",
     "output_type": "stream",
     "text": [
      "(7584, 11)\n",
      "Province/State                      object\n",
      "Country/Region                      object\n",
      "Lat                                float64\n",
      "Long                               float64\n",
      "ISO 3166-1 Alpha 3-Codes            object\n",
      "Sub-region Name                     object\n",
      "Intermediate Region Code             int64\n",
      "Date                        datetime64[ns]\n",
      "Vaccinated                           int64\n",
      "First Dose                           int64\n",
      "Second Dose                          int64\n",
      "dtype: object\n"
     ]
    }
   ],
   "source": [
    "#Describe the shape of the uk_vaccinations data and understand the structure\n",
    "print(uk_vaccinations.shape)\n",
    "print(uk_vaccinations.dtypes)"
   ]
  },
  {
   "cell_type": "code",
   "execution_count": 83,
   "id": "1340e2da",
   "metadata": {},
   "outputs": [],
   "source": [
    "uk_vaccinations['Date'] = pd.to_datetime(uk_vaccinations['Date'])"
   ]
  },
  {
   "cell_type": "code",
   "execution_count": 84,
   "id": "662efd08",
   "metadata": {},
   "outputs": [
    {
     "data": {
      "text/html": [
       "<div>\n",
       "<style scoped>\n",
       "    .dataframe tbody tr th:only-of-type {\n",
       "        vertical-align: middle;\n",
       "    }\n",
       "\n",
       "    .dataframe tbody tr th {\n",
       "        vertical-align: top;\n",
       "    }\n",
       "\n",
       "    .dataframe thead th {\n",
       "        text-align: right;\n",
       "    }\n",
       "</style>\n",
       "<table border=\"1\" class=\"dataframe\">\n",
       "  <thead>\n",
       "    <tr style=\"text-align: right;\">\n",
       "      <th></th>\n",
       "      <th>Province/State</th>\n",
       "      <th>Country/Region</th>\n",
       "      <th>Lat</th>\n",
       "      <th>Long</th>\n",
       "      <th>1/22/20</th>\n",
       "      <th>1/23/20</th>\n",
       "      <th>1/24/20</th>\n",
       "      <th>1/25/20</th>\n",
       "      <th>1/26/20</th>\n",
       "      <th>1/27/20</th>\n",
       "      <th>...</th>\n",
       "      <th>10/5/21</th>\n",
       "      <th>10/6/21</th>\n",
       "      <th>10/7/21</th>\n",
       "      <th>10/8/21</th>\n",
       "      <th>10/9/21</th>\n",
       "      <th>10/10/21</th>\n",
       "      <th>10/11/21</th>\n",
       "      <th>10/12/21</th>\n",
       "      <th>10/13/21</th>\n",
       "      <th>10/14/21</th>\n",
       "    </tr>\n",
       "  </thead>\n",
       "  <tbody>\n",
       "    <tr>\n",
       "      <th>0</th>\n",
       "      <td>NaN</td>\n",
       "      <td>Afghanistan</td>\n",
       "      <td>33.93911</td>\n",
       "      <td>67.709953</td>\n",
       "      <td>0</td>\n",
       "      <td>0</td>\n",
       "      <td>0</td>\n",
       "      <td>0</td>\n",
       "      <td>0</td>\n",
       "      <td>0</td>\n",
       "      <td>...</td>\n",
       "      <td>155309</td>\n",
       "      <td>155380</td>\n",
       "      <td>155429</td>\n",
       "      <td>155448</td>\n",
       "      <td>155466</td>\n",
       "      <td>155508</td>\n",
       "      <td>155540</td>\n",
       "      <td>155599</td>\n",
       "      <td>155627</td>\n",
       "      <td>155682</td>\n",
       "    </tr>\n",
       "    <tr>\n",
       "      <th>1</th>\n",
       "      <td>NaN</td>\n",
       "      <td>Albania</td>\n",
       "      <td>41.15330</td>\n",
       "      <td>20.168300</td>\n",
       "      <td>0</td>\n",
       "      <td>0</td>\n",
       "      <td>0</td>\n",
       "      <td>0</td>\n",
       "      <td>0</td>\n",
       "      <td>0</td>\n",
       "      <td>...</td>\n",
       "      <td>172618</td>\n",
       "      <td>173190</td>\n",
       "      <td>173723</td>\n",
       "      <td>174168</td>\n",
       "      <td>174643</td>\n",
       "      <td>174968</td>\n",
       "      <td>175163</td>\n",
       "      <td>175664</td>\n",
       "      <td>176172</td>\n",
       "      <td>176667</td>\n",
       "    </tr>\n",
       "  </tbody>\n",
       "</table>\n",
       "<p>2 rows × 636 columns</p>\n",
       "</div>"
      ],
      "text/plain": [
       "  Province/State Country/Region       Lat       Long  1/22/20  1/23/20  \\\n",
       "0            NaN    Afghanistan  33.93911  67.709953        0        0   \n",
       "1            NaN        Albania  41.15330  20.168300        0        0   \n",
       "\n",
       "   1/24/20  1/25/20  1/26/20  1/27/20  ...  10/5/21  10/6/21  10/7/21  \\\n",
       "0        0        0        0        0  ...   155309   155380   155429   \n",
       "1        0        0        0        0  ...   172618   173190   173723   \n",
       "\n",
       "   10/8/21  10/9/21  10/10/21  10/11/21  10/12/21  10/13/21  10/14/21  \n",
       "0   155448   155466    155508    155540    155599    155627    155682  \n",
       "1   174168   174643    174968    175163    175664    176172    176667  \n",
       "\n",
       "[2 rows x 636 columns]"
      ]
     },
     "execution_count": 84,
     "metadata": {},
     "output_type": "execute_result"
    }
   ],
   "source": [
    "#Understand the global_covid_cases dataframe but limit to 2 rows\n",
    "global_covid_cases.head(2)"
   ]
  },
  {
   "cell_type": "code",
   "execution_count": 85,
   "id": "c375b880",
   "metadata": {
    "scrolled": true
   },
   "outputs": [
    {
     "name": "stdout",
     "output_type": "stream",
     "text": [
      "(279, 636)\n",
      "Province/State     object\n",
      "Country/Region     object\n",
      "Lat               float64\n",
      "Long              float64\n",
      "1/22/20             int64\n",
      "                   ...   \n",
      "10/10/21            int64\n",
      "10/11/21            int64\n",
      "10/12/21            int64\n",
      "10/13/21            int64\n",
      "10/14/21            int64\n",
      "Length: 636, dtype: object\n"
     ]
    }
   ],
   "source": [
    "#Describe the shape of the  global_covid_cases data and understand the structure\n",
    "print(global_covid_cases.shape)\n",
    "print(global_covid_cases.dtypes)"
   ]
  },
  {
   "cell_type": "code",
   "execution_count": 86,
   "id": "6f0e7a61",
   "metadata": {},
   "outputs": [
    {
     "data": {
      "text/html": [
       "<div>\n",
       "<style scoped>\n",
       "    .dataframe tbody tr th:only-of-type {\n",
       "        vertical-align: middle;\n",
       "    }\n",
       "\n",
       "    .dataframe tbody tr th {\n",
       "        vertical-align: top;\n",
       "    }\n",
       "\n",
       "    .dataframe thead th {\n",
       "        text-align: right;\n",
       "    }\n",
       "</style>\n",
       "<table border=\"1\" class=\"dataframe\">\n",
       "  <thead>\n",
       "    <tr style=\"text-align: right;\">\n",
       "      <th></th>\n",
       "      <th>Unnamed: 0</th>\n",
       "      <th>created_at</th>\n",
       "      <th>id</th>\n",
       "      <th>id_str</th>\n",
       "      <th>text</th>\n",
       "      <th>truncated</th>\n",
       "      <th>entities</th>\n",
       "      <th>metadata</th>\n",
       "      <th>source</th>\n",
       "      <th>in_reply_to_status_id</th>\n",
       "      <th>...</th>\n",
       "      <th>retweet_count</th>\n",
       "      <th>favorite_count</th>\n",
       "      <th>favorited</th>\n",
       "      <th>retweeted</th>\n",
       "      <th>lang</th>\n",
       "      <th>possibly_sensitive</th>\n",
       "      <th>quoted_status_id</th>\n",
       "      <th>quoted_status_id_str</th>\n",
       "      <th>quoted_status</th>\n",
       "      <th>extended_entities</th>\n",
       "    </tr>\n",
       "  </thead>\n",
       "  <tbody>\n",
       "    <tr>\n",
       "      <th>0</th>\n",
       "      <td>0</td>\n",
       "      <td>Sun Mar 13 22:37:31 +0000 2022</td>\n",
       "      <td>1503138212692344832</td>\n",
       "      <td>1503138212692344832</td>\n",
       "      <td>RT @SixandLaura: Detection of a Novel &amp;amp; Hi...</td>\n",
       "      <td>False</td>\n",
       "      <td>{'hashtags': [], 'symbols': [], 'user_mentions...</td>\n",
       "      <td>{'iso_language_code': 'en', 'result_type': 're...</td>\n",
       "      <td>&lt;a href=\"http://twitter.com/download/iphone\" r...</td>\n",
       "      <td>NaN</td>\n",
       "      <td>...</td>\n",
       "      <td>2</td>\n",
       "      <td>0</td>\n",
       "      <td>False</td>\n",
       "      <td>False</td>\n",
       "      <td>en</td>\n",
       "      <td>NaN</td>\n",
       "      <td>NaN</td>\n",
       "      <td>NaN</td>\n",
       "      <td>NaN</td>\n",
       "      <td>NaN</td>\n",
       "    </tr>\n",
       "    <tr>\n",
       "      <th>1</th>\n",
       "      <td>1</td>\n",
       "      <td>Sun Mar 13 22:36:52 +0000 2022</td>\n",
       "      <td>1503138051052253190</td>\n",
       "      <td>1503138051052253190</td>\n",
       "      <td>RT @IranNewsUpdate1: #IranProtests\\n#Tehran, #...</td>\n",
       "      <td>False</td>\n",
       "      <td>{'hashtags': [{'text': 'IranProtests', 'indice...</td>\n",
       "      <td>{'iso_language_code': 'en', 'result_type': 're...</td>\n",
       "      <td>&lt;a href=\"http://twitter.com/download/iphone\" r...</td>\n",
       "      <td>NaN</td>\n",
       "      <td>...</td>\n",
       "      <td>1</td>\n",
       "      <td>0</td>\n",
       "      <td>False</td>\n",
       "      <td>False</td>\n",
       "      <td>en</td>\n",
       "      <td>NaN</td>\n",
       "      <td>NaN</td>\n",
       "      <td>NaN</td>\n",
       "      <td>NaN</td>\n",
       "      <td>NaN</td>\n",
       "    </tr>\n",
       "  </tbody>\n",
       "</table>\n",
       "<p>2 rows × 31 columns</p>\n",
       "</div>"
      ],
      "text/plain": [
       "   Unnamed: 0                      created_at                   id  \\\n",
       "0           0  Sun Mar 13 22:37:31 +0000 2022  1503138212692344832   \n",
       "1           1  Sun Mar 13 22:36:52 +0000 2022  1503138051052253190   \n",
       "\n",
       "                id_str                                               text  \\\n",
       "0  1503138212692344832  RT @SixandLaura: Detection of a Novel &amp; Hi...   \n",
       "1  1503138051052253190  RT @IranNewsUpdate1: #IranProtests\\n#Tehran, #...   \n",
       "\n",
       "   truncated                                           entities  \\\n",
       "0      False  {'hashtags': [], 'symbols': [], 'user_mentions...   \n",
       "1      False  {'hashtags': [{'text': 'IranProtests', 'indice...   \n",
       "\n",
       "                                            metadata  \\\n",
       "0  {'iso_language_code': 'en', 'result_type': 're...   \n",
       "1  {'iso_language_code': 'en', 'result_type': 're...   \n",
       "\n",
       "                                              source  in_reply_to_status_id  \\\n",
       "0  <a href=\"http://twitter.com/download/iphone\" r...                    NaN   \n",
       "1  <a href=\"http://twitter.com/download/iphone\" r...                    NaN   \n",
       "\n",
       "   ...  retweet_count  favorite_count  favorited  retweeted lang  \\\n",
       "0  ...              2               0      False      False   en   \n",
       "1  ...              1               0      False      False   en   \n",
       "\n",
       "   possibly_sensitive  quoted_status_id  quoted_status_id_str  quoted_status  \\\n",
       "0                 NaN               NaN                   NaN            NaN   \n",
       "1                 NaN               NaN                   NaN            NaN   \n",
       "\n",
       "  extended_entities  \n",
       "0               NaN  \n",
       "1               NaN  \n",
       "\n",
       "[2 rows x 31 columns]"
      ]
     },
     "execution_count": 86,
     "metadata": {},
     "output_type": "execute_result"
    }
   ],
   "source": [
    "#Understand the global_twitter_info dataframe but limit to 2 rows\n",
    "global_twitter_info.head(2)"
   ]
  },
  {
   "cell_type": "code",
   "execution_count": 87,
   "id": "5d43717c",
   "metadata": {},
   "outputs": [
    {
     "name": "stdout",
     "output_type": "stream",
     "text": [
      "(15, 31)\n",
      "Unnamed: 0                     int64\n",
      "created_at                    object\n",
      "id                             int64\n",
      "id_str                         int64\n",
      "text                          object\n",
      "truncated                       bool\n",
      "entities                      object\n",
      "metadata                      object\n",
      "source                        object\n",
      "in_reply_to_status_id        float64\n",
      "in_reply_to_status_id_str    float64\n",
      "in_reply_to_user_id          float64\n",
      "in_reply_to_user_id_str      float64\n",
      "in_reply_to_screen_name      float64\n",
      "user                          object\n",
      "geo                          float64\n",
      "coordinates                  float64\n",
      "place                        float64\n",
      "contributors                 float64\n",
      "retweeted_status              object\n",
      "is_quote_status                 bool\n",
      "retweet_count                  int64\n",
      "favorite_count                 int64\n",
      "favorited                       bool\n",
      "retweeted                       bool\n",
      "lang                          object\n",
      "possibly_sensitive            object\n",
      "quoted_status_id             float64\n",
      "quoted_status_id_str         float64\n",
      "quoted_status                 object\n",
      "extended_entities             object\n",
      "dtype: object\n"
     ]
    }
   ],
   "source": [
    "#Describe the shape of the global_twitter_info data and understand the structure\n",
    "print(global_twitter_info.shape)\n",
    "print(global_twitter_info.dtypes)"
   ]
  },
  {
   "cell_type": "code",
   "execution_count": 88,
   "id": "f1ac65a0",
   "metadata": {},
   "outputs": [
    {
     "data": {
      "text/html": [
       "<div>\n",
       "<style scoped>\n",
       "    .dataframe tbody tr th:only-of-type {\n",
       "        vertical-align: middle;\n",
       "    }\n",
       "\n",
       "    .dataframe tbody tr th {\n",
       "        vertical-align: top;\n",
       "    }\n",
       "\n",
       "    .dataframe thead th {\n",
       "        text-align: right;\n",
       "    }\n",
       "</style>\n",
       "<table border=\"1\" class=\"dataframe\">\n",
       "  <thead>\n",
       "    <tr style=\"text-align: right;\">\n",
       "      <th></th>\n",
       "      <th>created_at</th>\n",
       "      <th>id</th>\n",
       "      <th>id_str</th>\n",
       "      <th>text</th>\n",
       "      <th>truncated</th>\n",
       "      <th>entities</th>\n",
       "      <th>metadata</th>\n",
       "      <th>source</th>\n",
       "      <th>in_reply_to_status_id</th>\n",
       "      <th>in_reply_to_status_id_str</th>\n",
       "      <th>...</th>\n",
       "      <th>retweet_count</th>\n",
       "      <th>favorite_count</th>\n",
       "      <th>favorited</th>\n",
       "      <th>retweeted</th>\n",
       "      <th>lang</th>\n",
       "      <th>possibly_sensitive</th>\n",
       "      <th>quoted_status_id</th>\n",
       "      <th>quoted_status_id_str</th>\n",
       "      <th>quoted_status</th>\n",
       "      <th>extended_entities</th>\n",
       "    </tr>\n",
       "  </thead>\n",
       "  <tbody>\n",
       "    <tr>\n",
       "      <th>0</th>\n",
       "      <td>Mon Mar 21 21:45:28 +0000 2022</td>\n",
       "      <td>1506024218571464717</td>\n",
       "      <td>1506024218571464717</td>\n",
       "      <td>@Johnrashton47 When #diabetes has been the big...</td>\n",
       "      <td>True</td>\n",
       "      <td>{'hashtags': [{'text': 'diabetes', 'indices': ...</td>\n",
       "      <td>{'iso_language_code': 'en', 'result_type': 're...</td>\n",
       "      <td>&lt;a href=\"http://twitter.com/download/android\" ...</td>\n",
       "      <td>1.505660e+18</td>\n",
       "      <td>1.505660e+18</td>\n",
       "      <td>...</td>\n",
       "      <td>0</td>\n",
       "      <td>0</td>\n",
       "      <td>False</td>\n",
       "      <td>False</td>\n",
       "      <td>en</td>\n",
       "      <td>NaN</td>\n",
       "      <td>NaN</td>\n",
       "      <td>NaN</td>\n",
       "      <td>NaN</td>\n",
       "      <td>NaN</td>\n",
       "    </tr>\n",
       "    <tr>\n",
       "      <th>1</th>\n",
       "      <td>Mon Mar 21 21:31:13 +0000 2022</td>\n",
       "      <td>1506020629849391104</td>\n",
       "      <td>1506020629849391104</td>\n",
       "      <td>Disturbing figures from @fsb_policy @indparltr...</td>\n",
       "      <td>True</td>\n",
       "      <td>{'hashtags': [], 'symbols': [], 'user_mentions...</td>\n",
       "      <td>{'iso_language_code': 'en', 'result_type': 're...</td>\n",
       "      <td>&lt;a href=\"http://twitter.com/download/android\" ...</td>\n",
       "      <td>NaN</td>\n",
       "      <td>NaN</td>\n",
       "      <td>...</td>\n",
       "      <td>4</td>\n",
       "      <td>3</td>\n",
       "      <td>False</td>\n",
       "      <td>False</td>\n",
       "      <td>en</td>\n",
       "      <td>False</td>\n",
       "      <td>NaN</td>\n",
       "      <td>NaN</td>\n",
       "      <td>NaN</td>\n",
       "      <td>NaN</td>\n",
       "    </tr>\n",
       "  </tbody>\n",
       "</table>\n",
       "<p>2 rows × 29 columns</p>\n",
       "</div>"
      ],
      "text/plain": [
       "                       created_at                   id               id_str  \\\n",
       "0  Mon Mar 21 21:45:28 +0000 2022  1506024218571464717  1506024218571464717   \n",
       "1  Mon Mar 21 21:31:13 +0000 2022  1506020629849391104  1506020629849391104   \n",
       "\n",
       "                                                text  truncated  \\\n",
       "0  @Johnrashton47 When #diabetes has been the big...       True   \n",
       "1  Disturbing figures from @fsb_policy @indparltr...       True   \n",
       "\n",
       "                                            entities  \\\n",
       "0  {'hashtags': [{'text': 'diabetes', 'indices': ...   \n",
       "1  {'hashtags': [], 'symbols': [], 'user_mentions...   \n",
       "\n",
       "                                            metadata  \\\n",
       "0  {'iso_language_code': 'en', 'result_type': 're...   \n",
       "1  {'iso_language_code': 'en', 'result_type': 're...   \n",
       "\n",
       "                                              source  in_reply_to_status_id  \\\n",
       "0  <a href=\"http://twitter.com/download/android\" ...           1.505660e+18   \n",
       "1  <a href=\"http://twitter.com/download/android\" ...                    NaN   \n",
       "\n",
       "   in_reply_to_status_id_str  ...  retweet_count  favorite_count favorited  \\\n",
       "0               1.505660e+18  ...              0               0     False   \n",
       "1                        NaN  ...              4               3     False   \n",
       "\n",
       "  retweeted lang possibly_sensitive quoted_status_id  quoted_status_id_str  \\\n",
       "0     False   en                NaN              NaN                   NaN   \n",
       "1     False   en              False              NaN                   NaN   \n",
       "\n",
       "   quoted_status  extended_entities  \n",
       "0            NaN                NaN  \n",
       "1            NaN                NaN  \n",
       "\n",
       "[2 rows x 29 columns]"
      ]
     },
     "execution_count": 88,
     "metadata": {},
     "output_type": "execute_result"
    }
   ],
   "source": [
    "#Understand the global_covid_cases dataframe but limit to 2 rows\n",
    "global_twitter_info_two.head(2)"
   ]
  },
  {
   "cell_type": "code",
   "execution_count": 89,
   "id": "b8fb7822",
   "metadata": {},
   "outputs": [
    {
     "name": "stdout",
     "output_type": "stream",
     "text": [
      "(100, 29)\n",
      "created_at                    object\n",
      "id                             int64\n",
      "id_str                         int64\n",
      "text                          object\n",
      "truncated                       bool\n",
      "entities                      object\n",
      "metadata                      object\n",
      "source                        object\n",
      "in_reply_to_status_id        float64\n",
      "in_reply_to_status_id_str    float64\n",
      "in_reply_to_user_id          float64\n",
      "in_reply_to_user_id_str      float64\n",
      "in_reply_to_screen_name       object\n",
      "user                          object\n",
      "geo                           object\n",
      "coordinates                   object\n",
      "place                         object\n",
      "contributors                 float64\n",
      "is_quote_status                 bool\n",
      "retweet_count                  int64\n",
      "favorite_count                 int64\n",
      "favorited                       bool\n",
      "retweeted                       bool\n",
      "lang                          object\n",
      "possibly_sensitive            object\n",
      "quoted_status_id             float64\n",
      "quoted_status_id_str         float64\n",
      "quoted_status                 object\n",
      "extended_entities             object\n",
      "dtype: object\n"
     ]
    }
   ],
   "source": [
    "#Describe the shape of the  global_covid_cases data and understand the structure\n",
    "print(global_twitter_info_two.shape)\n",
    "print(global_twitter_info_two.dtypes)"
   ]
  },
  {
   "cell_type": "markdown",
   "id": "a142e13a",
   "metadata": {},
   "source": [
    "# 2.1 Descriptive Statistics"
   ]
  },
  {
   "cell_type": "code",
   "execution_count": 90,
   "id": "d5599b1b",
   "metadata": {},
   "outputs": [
    {
     "data": {
      "text/html": [
       "<div>\n",
       "<style scoped>\n",
       "    .dataframe tbody tr th:only-of-type {\n",
       "        vertical-align: middle;\n",
       "    }\n",
       "\n",
       "    .dataframe tbody tr th {\n",
       "        vertical-align: top;\n",
       "    }\n",
       "\n",
       "    .dataframe thead th {\n",
       "        text-align: right;\n",
       "    }\n",
       "</style>\n",
       "<table border=\"1\" class=\"dataframe\">\n",
       "  <thead>\n",
       "    <tr style=\"text-align: right;\">\n",
       "      <th></th>\n",
       "      <th>Lat</th>\n",
       "      <th>Long</th>\n",
       "      <th>Intermediate Region Code</th>\n",
       "      <th>Deaths</th>\n",
       "      <th>Cases</th>\n",
       "      <th>Recovered</th>\n",
       "      <th>Hospitalised</th>\n",
       "    </tr>\n",
       "  </thead>\n",
       "  <tbody>\n",
       "    <tr>\n",
       "      <th>count</th>\n",
       "      <td>7584.000000</td>\n",
       "      <td>7584.000000</td>\n",
       "      <td>7584.000000</td>\n",
       "      <td>7582.000000</td>\n",
       "      <td>7.582000e+03</td>\n",
       "      <td>7582.000000</td>\n",
       "      <td>7582.000000</td>\n",
       "    </tr>\n",
       "    <tr>\n",
       "      <th>mean</th>\n",
       "      <td>21.840267</td>\n",
       "      <td>-41.440047</td>\n",
       "      <td>12.500000</td>\n",
       "      <td>6210.202321</td>\n",
       "      <td>2.147082e+05</td>\n",
       "      <td>454.691242</td>\n",
       "      <td>685.228568</td>\n",
       "    </tr>\n",
       "    <tr>\n",
       "      <th>std</th>\n",
       "      <td>28.305518</td>\n",
       "      <td>30.527529</td>\n",
       "      <td>14.009849</td>\n",
       "      <td>24860.790148</td>\n",
       "      <td>1.007557e+06</td>\n",
       "      <td>1010.642337</td>\n",
       "      <td>819.256635</td>\n",
       "    </tr>\n",
       "    <tr>\n",
       "      <th>min</th>\n",
       "      <td>-51.796300</td>\n",
       "      <td>-81.254600</td>\n",
       "      <td>0.000000</td>\n",
       "      <td>0.000000</td>\n",
       "      <td>0.000000e+00</td>\n",
       "      <td>0.000000</td>\n",
       "      <td>0.000000</td>\n",
       "    </tr>\n",
       "    <tr>\n",
       "      <th>25%</th>\n",
       "      <td>17.851075</td>\n",
       "      <td>-64.667625</td>\n",
       "      <td>0.000000</td>\n",
       "      <td>0.000000</td>\n",
       "      <td>1.200000e+01</td>\n",
       "      <td>0.000000</td>\n",
       "      <td>105.000000</td>\n",
       "    </tr>\n",
       "    <tr>\n",
       "      <th>50%</th>\n",
       "      <td>20.503650</td>\n",
       "      <td>-60.855483</td>\n",
       "      <td>2.500000</td>\n",
       "      <td>1.000000</td>\n",
       "      <td>1.685000e+02</td>\n",
       "      <td>13.000000</td>\n",
       "      <td>390.000000</td>\n",
       "    </tr>\n",
       "    <tr>\n",
       "      <th>75%</th>\n",
       "      <td>39.448675</td>\n",
       "      <td>-5.152225</td>\n",
       "      <td>29.000000</td>\n",
       "      <td>25.000000</td>\n",
       "      <td>1.585000e+03</td>\n",
       "      <td>312.000000</td>\n",
       "      <td>955.750000</td>\n",
       "    </tr>\n",
       "    <tr>\n",
       "      <th>max</th>\n",
       "      <td>55.378100</td>\n",
       "      <td>-2.364400</td>\n",
       "      <td>29.000000</td>\n",
       "      <td>138237.000000</td>\n",
       "      <td>8.317439e+06</td>\n",
       "      <td>8322.000000</td>\n",
       "      <td>4907.000000</td>\n",
       "    </tr>\n",
       "  </tbody>\n",
       "</table>\n",
       "</div>"
      ],
      "text/plain": [
       "               Lat         Long  Intermediate Region Code         Deaths  \\\n",
       "count  7584.000000  7584.000000               7584.000000    7582.000000   \n",
       "mean     21.840267   -41.440047                 12.500000    6210.202321   \n",
       "std      28.305518    30.527529                 14.009849   24860.790148   \n",
       "min     -51.796300   -81.254600                  0.000000       0.000000   \n",
       "25%      17.851075   -64.667625                  0.000000       0.000000   \n",
       "50%      20.503650   -60.855483                  2.500000       1.000000   \n",
       "75%      39.448675    -5.152225                 29.000000      25.000000   \n",
       "max      55.378100    -2.364400                 29.000000  138237.000000   \n",
       "\n",
       "              Cases    Recovered  Hospitalised  \n",
       "count  7.582000e+03  7582.000000   7582.000000  \n",
       "mean   2.147082e+05   454.691242    685.228568  \n",
       "std    1.007557e+06  1010.642337    819.256635  \n",
       "min    0.000000e+00     0.000000      0.000000  \n",
       "25%    1.200000e+01     0.000000    105.000000  \n",
       "50%    1.685000e+02    13.000000    390.000000  \n",
       "75%    1.585000e+03   312.000000    955.750000  \n",
       "max    8.317439e+06  8322.000000   4907.000000  "
      ]
     },
     "execution_count": 90,
     "metadata": {},
     "output_type": "execute_result"
    }
   ],
   "source": [
    "#Summarise the uk_covid_cases data\n",
    "uk_covid_cases.describe()"
   ]
  },
  {
   "cell_type": "code",
   "execution_count": 91,
   "id": "59dc7ef2",
   "metadata": {},
   "outputs": [
    {
     "data": {
      "text/html": [
       "<div>\n",
       "<style scoped>\n",
       "    .dataframe tbody tr th:only-of-type {\n",
       "        vertical-align: middle;\n",
       "    }\n",
       "\n",
       "    .dataframe tbody tr th {\n",
       "        vertical-align: top;\n",
       "    }\n",
       "\n",
       "    .dataframe thead th {\n",
       "        text-align: right;\n",
       "    }\n",
       "</style>\n",
       "<table border=\"1\" class=\"dataframe\">\n",
       "  <thead>\n",
       "    <tr style=\"text-align: right;\">\n",
       "      <th></th>\n",
       "      <th>Lat</th>\n",
       "      <th>Long</th>\n",
       "      <th>Intermediate Region Code</th>\n",
       "      <th>Vaccinated</th>\n",
       "      <th>First Dose</th>\n",
       "      <th>Second Dose</th>\n",
       "    </tr>\n",
       "  </thead>\n",
       "  <tbody>\n",
       "    <tr>\n",
       "      <th>count</th>\n",
       "      <td>7584.000000</td>\n",
       "      <td>7584.000000</td>\n",
       "      <td>7584.000000</td>\n",
       "      <td>7584.000000</td>\n",
       "      <td>7584.000000</td>\n",
       "      <td>7584.000000</td>\n",
       "    </tr>\n",
       "    <tr>\n",
       "      <th>mean</th>\n",
       "      <td>21.840267</td>\n",
       "      <td>-41.440047</td>\n",
       "      <td>12.500000</td>\n",
       "      <td>5913.547600</td>\n",
       "      <td>6192.822257</td>\n",
       "      <td>5913.547600</td>\n",
       "    </tr>\n",
       "    <tr>\n",
       "      <th>std</th>\n",
       "      <td>28.305518</td>\n",
       "      <td>30.527529</td>\n",
       "      <td>14.009849</td>\n",
       "      <td>10846.410258</td>\n",
       "      <td>11439.883647</td>\n",
       "      <td>10846.410258</td>\n",
       "    </tr>\n",
       "    <tr>\n",
       "      <th>min</th>\n",
       "      <td>-51.796300</td>\n",
       "      <td>-81.254600</td>\n",
       "      <td>0.000000</td>\n",
       "      <td>0.000000</td>\n",
       "      <td>0.000000</td>\n",
       "      <td>0.000000</td>\n",
       "    </tr>\n",
       "    <tr>\n",
       "      <th>25%</th>\n",
       "      <td>17.851075</td>\n",
       "      <td>-64.667625</td>\n",
       "      <td>0.000000</td>\n",
       "      <td>0.000000</td>\n",
       "      <td>0.000000</td>\n",
       "      <td>0.000000</td>\n",
       "    </tr>\n",
       "    <tr>\n",
       "      <th>50%</th>\n",
       "      <td>20.503650</td>\n",
       "      <td>-60.855483</td>\n",
       "      <td>2.500000</td>\n",
       "      <td>0.000000</td>\n",
       "      <td>0.000000</td>\n",
       "      <td>0.000000</td>\n",
       "    </tr>\n",
       "    <tr>\n",
       "      <th>75%</th>\n",
       "      <td>39.448675</td>\n",
       "      <td>-5.152225</td>\n",
       "      <td>29.000000</td>\n",
       "      <td>8338.000000</td>\n",
       "      <td>7505.500000</td>\n",
       "      <td>8338.000000</td>\n",
       "    </tr>\n",
       "    <tr>\n",
       "      <th>max</th>\n",
       "      <td>55.378100</td>\n",
       "      <td>-2.364400</td>\n",
       "      <td>29.000000</td>\n",
       "      <td>69619.000000</td>\n",
       "      <td>94038.000000</td>\n",
       "      <td>69619.000000</td>\n",
       "    </tr>\n",
       "  </tbody>\n",
       "</table>\n",
       "</div>"
      ],
      "text/plain": [
       "               Lat         Long  Intermediate Region Code    Vaccinated  \\\n",
       "count  7584.000000  7584.000000               7584.000000   7584.000000   \n",
       "mean     21.840267   -41.440047                 12.500000   5913.547600   \n",
       "std      28.305518    30.527529                 14.009849  10846.410258   \n",
       "min     -51.796300   -81.254600                  0.000000      0.000000   \n",
       "25%      17.851075   -64.667625                  0.000000      0.000000   \n",
       "50%      20.503650   -60.855483                  2.500000      0.000000   \n",
       "75%      39.448675    -5.152225                 29.000000   8338.000000   \n",
       "max      55.378100    -2.364400                 29.000000  69619.000000   \n",
       "\n",
       "         First Dose   Second Dose  \n",
       "count   7584.000000   7584.000000  \n",
       "mean    6192.822257   5913.547600  \n",
       "std    11439.883647  10846.410258  \n",
       "min        0.000000      0.000000  \n",
       "25%        0.000000      0.000000  \n",
       "50%        0.000000      0.000000  \n",
       "75%     7505.500000   8338.000000  \n",
       "max    94038.000000  69619.000000  "
      ]
     },
     "execution_count": 91,
     "metadata": {},
     "output_type": "execute_result"
    }
   ],
   "source": [
    "#Summarise the uk_vaccinations data\n",
    "uk_vaccinations.describe()"
   ]
  },
  {
   "cell_type": "code",
   "execution_count": 92,
   "id": "5ef92e60",
   "metadata": {},
   "outputs": [
    {
     "data": {
      "text/html": [
       "<div>\n",
       "<style scoped>\n",
       "    .dataframe tbody tr th:only-of-type {\n",
       "        vertical-align: middle;\n",
       "    }\n",
       "\n",
       "    .dataframe tbody tr th {\n",
       "        vertical-align: top;\n",
       "    }\n",
       "\n",
       "    .dataframe thead th {\n",
       "        text-align: right;\n",
       "    }\n",
       "</style>\n",
       "<table border=\"1\" class=\"dataframe\">\n",
       "  <thead>\n",
       "    <tr style=\"text-align: right;\">\n",
       "      <th></th>\n",
       "      <th>Lat</th>\n",
       "      <th>Long</th>\n",
       "      <th>1/22/20</th>\n",
       "      <th>1/23/20</th>\n",
       "      <th>1/24/20</th>\n",
       "      <th>1/25/20</th>\n",
       "      <th>1/26/20</th>\n",
       "      <th>1/27/20</th>\n",
       "      <th>1/28/20</th>\n",
       "      <th>1/29/20</th>\n",
       "      <th>...</th>\n",
       "      <th>10/5/21</th>\n",
       "      <th>10/6/21</th>\n",
       "      <th>10/7/21</th>\n",
       "      <th>10/8/21</th>\n",
       "      <th>10/9/21</th>\n",
       "      <th>10/10/21</th>\n",
       "      <th>10/11/21</th>\n",
       "      <th>10/12/21</th>\n",
       "      <th>10/13/21</th>\n",
       "      <th>10/14/21</th>\n",
       "    </tr>\n",
       "  </thead>\n",
       "  <tbody>\n",
       "    <tr>\n",
       "      <th>count</th>\n",
       "      <td>277.000000</td>\n",
       "      <td>277.000000</td>\n",
       "      <td>279.000000</td>\n",
       "      <td>279.000000</td>\n",
       "      <td>279.000000</td>\n",
       "      <td>279.000000</td>\n",
       "      <td>279.000000</td>\n",
       "      <td>279.000000</td>\n",
       "      <td>279.000000</td>\n",
       "      <td>279.000000</td>\n",
       "      <td>...</td>\n",
       "      <td>2.790000e+02</td>\n",
       "      <td>2.790000e+02</td>\n",
       "      <td>2.790000e+02</td>\n",
       "      <td>2.790000e+02</td>\n",
       "      <td>2.790000e+02</td>\n",
       "      <td>2.790000e+02</td>\n",
       "      <td>2.790000e+02</td>\n",
       "      <td>2.790000e+02</td>\n",
       "      <td>2.790000e+02</td>\n",
       "      <td>2.790000e+02</td>\n",
       "    </tr>\n",
       "    <tr>\n",
       "      <th>mean</th>\n",
       "      <td>20.305266</td>\n",
       "      <td>22.500100</td>\n",
       "      <td>1.996416</td>\n",
       "      <td>2.347670</td>\n",
       "      <td>3.372760</td>\n",
       "      <td>5.139785</td>\n",
       "      <td>7.591398</td>\n",
       "      <td>10.491039</td>\n",
       "      <td>19.992832</td>\n",
       "      <td>22.103943</td>\n",
       "      <td>...</td>\n",
       "      <td>8.452530e+05</td>\n",
       "      <td>8.470924e+05</td>\n",
       "      <td>8.486404e+05</td>\n",
       "      <td>8.503560e+05</td>\n",
       "      <td>8.515362e+05</td>\n",
       "      <td>8.526139e+05</td>\n",
       "      <td>8.540238e+05</td>\n",
       "      <td>8.555742e+05</td>\n",
       "      <td>8.572325e+05</td>\n",
       "      <td>8.588105e+05</td>\n",
       "    </tr>\n",
       "    <tr>\n",
       "      <th>std</th>\n",
       "      <td>25.206138</td>\n",
       "      <td>75.408236</td>\n",
       "      <td>26.637656</td>\n",
       "      <td>26.735265</td>\n",
       "      <td>33.284971</td>\n",
       "      <td>46.326319</td>\n",
       "      <td>64.742529</td>\n",
       "      <td>87.231432</td>\n",
       "      <td>214.047295</td>\n",
       "      <td>215.362435</td>\n",
       "      <td>...</td>\n",
       "      <td>3.712185e+06</td>\n",
       "      <td>3.718735e+06</td>\n",
       "      <td>3.724780e+06</td>\n",
       "      <td>3.732105e+06</td>\n",
       "      <td>3.734999e+06</td>\n",
       "      <td>3.737472e+06</td>\n",
       "      <td>3.743756e+06</td>\n",
       "      <td>3.749739e+06</td>\n",
       "      <td>3.756477e+06</td>\n",
       "      <td>3.761787e+06</td>\n",
       "    </tr>\n",
       "    <tr>\n",
       "      <th>min</th>\n",
       "      <td>-51.796300</td>\n",
       "      <td>-178.116500</td>\n",
       "      <td>0.000000</td>\n",
       "      <td>0.000000</td>\n",
       "      <td>0.000000</td>\n",
       "      <td>0.000000</td>\n",
       "      <td>0.000000</td>\n",
       "      <td>0.000000</td>\n",
       "      <td>0.000000</td>\n",
       "      <td>0.000000</td>\n",
       "      <td>...</td>\n",
       "      <td>0.000000e+00</td>\n",
       "      <td>0.000000e+00</td>\n",
       "      <td>0.000000e+00</td>\n",
       "      <td>0.000000e+00</td>\n",
       "      <td>0.000000e+00</td>\n",
       "      <td>0.000000e+00</td>\n",
       "      <td>0.000000e+00</td>\n",
       "      <td>0.000000e+00</td>\n",
       "      <td>0.000000e+00</td>\n",
       "      <td>0.000000e+00</td>\n",
       "    </tr>\n",
       "    <tr>\n",
       "      <th>25%</th>\n",
       "      <td>4.860416</td>\n",
       "      <td>-23.041800</td>\n",
       "      <td>0.000000</td>\n",
       "      <td>0.000000</td>\n",
       "      <td>0.000000</td>\n",
       "      <td>0.000000</td>\n",
       "      <td>0.000000</td>\n",
       "      <td>0.000000</td>\n",
       "      <td>0.000000</td>\n",
       "      <td>0.000000</td>\n",
       "      <td>...</td>\n",
       "      <td>2.637000e+03</td>\n",
       "      <td>2.680500e+03</td>\n",
       "      <td>2.684500e+03</td>\n",
       "      <td>2.685500e+03</td>\n",
       "      <td>2.688500e+03</td>\n",
       "      <td>2.690000e+03</td>\n",
       "      <td>2.691500e+03</td>\n",
       "      <td>2.692500e+03</td>\n",
       "      <td>2.693000e+03</td>\n",
       "      <td>2.693500e+03</td>\n",
       "    </tr>\n",
       "    <tr>\n",
       "      <th>50%</th>\n",
       "      <td>21.521757</td>\n",
       "      <td>20.939400</td>\n",
       "      <td>0.000000</td>\n",
       "      <td>0.000000</td>\n",
       "      <td>0.000000</td>\n",
       "      <td>0.000000</td>\n",
       "      <td>0.000000</td>\n",
       "      <td>0.000000</td>\n",
       "      <td>0.000000</td>\n",
       "      <td>0.000000</td>\n",
       "      <td>...</td>\n",
       "      <td>3.771800e+04</td>\n",
       "      <td>3.777000e+04</td>\n",
       "      <td>3.780800e+04</td>\n",
       "      <td>3.784500e+04</td>\n",
       "      <td>3.787000e+04</td>\n",
       "      <td>3.788800e+04</td>\n",
       "      <td>3.790200e+04</td>\n",
       "      <td>3.792000e+04</td>\n",
       "      <td>3.795100e+04</td>\n",
       "      <td>3.806700e+04</td>\n",
       "    </tr>\n",
       "    <tr>\n",
       "      <th>75%</th>\n",
       "      <td>40.463667</td>\n",
       "      <td>85.240100</td>\n",
       "      <td>0.000000</td>\n",
       "      <td>0.000000</td>\n",
       "      <td>0.000000</td>\n",
       "      <td>0.000000</td>\n",
       "      <td>0.000000</td>\n",
       "      <td>0.000000</td>\n",
       "      <td>0.000000</td>\n",
       "      <td>0.000000</td>\n",
       "      <td>...</td>\n",
       "      <td>3.724825e+05</td>\n",
       "      <td>3.734315e+05</td>\n",
       "      <td>3.741910e+05</td>\n",
       "      <td>3.749430e+05</td>\n",
       "      <td>3.756480e+05</td>\n",
       "      <td>3.762030e+05</td>\n",
       "      <td>3.774650e+05</td>\n",
       "      <td>3.778180e+05</td>\n",
       "      <td>3.786915e+05</td>\n",
       "      <td>3.803020e+05</td>\n",
       "    </tr>\n",
       "    <tr>\n",
       "      <th>max</th>\n",
       "      <td>71.706900</td>\n",
       "      <td>178.065000</td>\n",
       "      <td>444.000000</td>\n",
       "      <td>444.000000</td>\n",
       "      <td>549.000000</td>\n",
       "      <td>761.000000</td>\n",
       "      <td>1058.000000</td>\n",
       "      <td>1423.000000</td>\n",
       "      <td>3554.000000</td>\n",
       "      <td>3554.000000</td>\n",
       "      <td>...</td>\n",
       "      <td>4.394749e+07</td>\n",
       "      <td>4.405883e+07</td>\n",
       "      <td>4.415891e+07</td>\n",
       "      <td>4.429005e+07</td>\n",
       "      <td>4.431799e+07</td>\n",
       "      <td>4.434018e+07</td>\n",
       "      <td>4.445638e+07</td>\n",
       "      <td>4.456269e+07</td>\n",
       "      <td>4.468415e+07</td>\n",
       "      <td>4.476791e+07</td>\n",
       "    </tr>\n",
       "  </tbody>\n",
       "</table>\n",
       "<p>8 rows × 634 columns</p>\n",
       "</div>"
      ],
      "text/plain": [
       "              Lat        Long     1/22/20     1/23/20     1/24/20     1/25/20  \\\n",
       "count  277.000000  277.000000  279.000000  279.000000  279.000000  279.000000   \n",
       "mean    20.305266   22.500100    1.996416    2.347670    3.372760    5.139785   \n",
       "std     25.206138   75.408236   26.637656   26.735265   33.284971   46.326319   \n",
       "min    -51.796300 -178.116500    0.000000    0.000000    0.000000    0.000000   \n",
       "25%      4.860416  -23.041800    0.000000    0.000000    0.000000    0.000000   \n",
       "50%     21.521757   20.939400    0.000000    0.000000    0.000000    0.000000   \n",
       "75%     40.463667   85.240100    0.000000    0.000000    0.000000    0.000000   \n",
       "max     71.706900  178.065000  444.000000  444.000000  549.000000  761.000000   \n",
       "\n",
       "           1/26/20      1/27/20      1/28/20      1/29/20  ...       10/5/21  \\\n",
       "count   279.000000   279.000000   279.000000   279.000000  ...  2.790000e+02   \n",
       "mean      7.591398    10.491039    19.992832    22.103943  ...  8.452530e+05   \n",
       "std      64.742529    87.231432   214.047295   215.362435  ...  3.712185e+06   \n",
       "min       0.000000     0.000000     0.000000     0.000000  ...  0.000000e+00   \n",
       "25%       0.000000     0.000000     0.000000     0.000000  ...  2.637000e+03   \n",
       "50%       0.000000     0.000000     0.000000     0.000000  ...  3.771800e+04   \n",
       "75%       0.000000     0.000000     0.000000     0.000000  ...  3.724825e+05   \n",
       "max    1058.000000  1423.000000  3554.000000  3554.000000  ...  4.394749e+07   \n",
       "\n",
       "            10/6/21       10/7/21       10/8/21       10/9/21      10/10/21  \\\n",
       "count  2.790000e+02  2.790000e+02  2.790000e+02  2.790000e+02  2.790000e+02   \n",
       "mean   8.470924e+05  8.486404e+05  8.503560e+05  8.515362e+05  8.526139e+05   \n",
       "std    3.718735e+06  3.724780e+06  3.732105e+06  3.734999e+06  3.737472e+06   \n",
       "min    0.000000e+00  0.000000e+00  0.000000e+00  0.000000e+00  0.000000e+00   \n",
       "25%    2.680500e+03  2.684500e+03  2.685500e+03  2.688500e+03  2.690000e+03   \n",
       "50%    3.777000e+04  3.780800e+04  3.784500e+04  3.787000e+04  3.788800e+04   \n",
       "75%    3.734315e+05  3.741910e+05  3.749430e+05  3.756480e+05  3.762030e+05   \n",
       "max    4.405883e+07  4.415891e+07  4.429005e+07  4.431799e+07  4.434018e+07   \n",
       "\n",
       "           10/11/21      10/12/21      10/13/21      10/14/21  \n",
       "count  2.790000e+02  2.790000e+02  2.790000e+02  2.790000e+02  \n",
       "mean   8.540238e+05  8.555742e+05  8.572325e+05  8.588105e+05  \n",
       "std    3.743756e+06  3.749739e+06  3.756477e+06  3.761787e+06  \n",
       "min    0.000000e+00  0.000000e+00  0.000000e+00  0.000000e+00  \n",
       "25%    2.691500e+03  2.692500e+03  2.693000e+03  2.693500e+03  \n",
       "50%    3.790200e+04  3.792000e+04  3.795100e+04  3.806700e+04  \n",
       "75%    3.774650e+05  3.778180e+05  3.786915e+05  3.803020e+05  \n",
       "max    4.445638e+07  4.456269e+07  4.468415e+07  4.476791e+07  \n",
       "\n",
       "[8 rows x 634 columns]"
      ]
     },
     "execution_count": 92,
     "metadata": {},
     "output_type": "execute_result"
    }
   ],
   "source": [
    "#Summarise the global_twitter_info data\n",
    "global_covid_cases.describe()"
   ]
  },
  {
   "cell_type": "code",
   "execution_count": 93,
   "id": "b8b869cc",
   "metadata": {},
   "outputs": [
    {
     "data": {
      "text/html": [
       "<div>\n",
       "<style scoped>\n",
       "    .dataframe tbody tr th:only-of-type {\n",
       "        vertical-align: middle;\n",
       "    }\n",
       "\n",
       "    .dataframe tbody tr th {\n",
       "        vertical-align: top;\n",
       "    }\n",
       "\n",
       "    .dataframe thead th {\n",
       "        text-align: right;\n",
       "    }\n",
       "</style>\n",
       "<table border=\"1\" class=\"dataframe\">\n",
       "  <thead>\n",
       "    <tr style=\"text-align: right;\">\n",
       "      <th></th>\n",
       "      <th>Unnamed: 0</th>\n",
       "      <th>id</th>\n",
       "      <th>id_str</th>\n",
       "      <th>in_reply_to_status_id</th>\n",
       "      <th>in_reply_to_status_id_str</th>\n",
       "      <th>in_reply_to_user_id</th>\n",
       "      <th>in_reply_to_user_id_str</th>\n",
       "      <th>in_reply_to_screen_name</th>\n",
       "      <th>geo</th>\n",
       "      <th>coordinates</th>\n",
       "      <th>place</th>\n",
       "      <th>contributors</th>\n",
       "      <th>retweet_count</th>\n",
       "      <th>favorite_count</th>\n",
       "      <th>quoted_status_id</th>\n",
       "      <th>quoted_status_id_str</th>\n",
       "    </tr>\n",
       "  </thead>\n",
       "  <tbody>\n",
       "    <tr>\n",
       "      <th>count</th>\n",
       "      <td>15.000000</td>\n",
       "      <td>1.500000e+01</td>\n",
       "      <td>1.500000e+01</td>\n",
       "      <td>0.0</td>\n",
       "      <td>0.0</td>\n",
       "      <td>0.0</td>\n",
       "      <td>0.0</td>\n",
       "      <td>0.0</td>\n",
       "      <td>0.0</td>\n",
       "      <td>0.0</td>\n",
       "      <td>0.0</td>\n",
       "      <td>0.0</td>\n",
       "      <td>15.000000</td>\n",
       "      <td>15.000000</td>\n",
       "      <td>1.000000e+00</td>\n",
       "      <td>1.000000e+00</td>\n",
       "    </tr>\n",
       "    <tr>\n",
       "      <th>mean</th>\n",
       "      <td>7.000000</td>\n",
       "      <td>1.503137e+18</td>\n",
       "      <td>1.503137e+18</td>\n",
       "      <td>NaN</td>\n",
       "      <td>NaN</td>\n",
       "      <td>NaN</td>\n",
       "      <td>NaN</td>\n",
       "      <td>NaN</td>\n",
       "      <td>NaN</td>\n",
       "      <td>NaN</td>\n",
       "      <td>NaN</td>\n",
       "      <td>NaN</td>\n",
       "      <td>3.200000</td>\n",
       "      <td>0.133333</td>\n",
       "      <td>1.503109e+18</td>\n",
       "      <td>1.503109e+18</td>\n",
       "    </tr>\n",
       "    <tr>\n",
       "      <th>std</th>\n",
       "      <td>4.472136</td>\n",
       "      <td>1.042485e+12</td>\n",
       "      <td>1.042485e+12</td>\n",
       "      <td>NaN</td>\n",
       "      <td>NaN</td>\n",
       "      <td>NaN</td>\n",
       "      <td>NaN</td>\n",
       "      <td>NaN</td>\n",
       "      <td>NaN</td>\n",
       "      <td>NaN</td>\n",
       "      <td>NaN</td>\n",
       "      <td>NaN</td>\n",
       "      <td>6.178303</td>\n",
       "      <td>0.516398</td>\n",
       "      <td>NaN</td>\n",
       "      <td>NaN</td>\n",
       "    </tr>\n",
       "    <tr>\n",
       "      <th>min</th>\n",
       "      <td>0.000000</td>\n",
       "      <td>1.503135e+18</td>\n",
       "      <td>1.503135e+18</td>\n",
       "      <td>NaN</td>\n",
       "      <td>NaN</td>\n",
       "      <td>NaN</td>\n",
       "      <td>NaN</td>\n",
       "      <td>NaN</td>\n",
       "      <td>NaN</td>\n",
       "      <td>NaN</td>\n",
       "      <td>NaN</td>\n",
       "      <td>NaN</td>\n",
       "      <td>0.000000</td>\n",
       "      <td>0.000000</td>\n",
       "      <td>1.503109e+18</td>\n",
       "      <td>1.503109e+18</td>\n",
       "    </tr>\n",
       "    <tr>\n",
       "      <th>25%</th>\n",
       "      <td>3.500000</td>\n",
       "      <td>1.503136e+18</td>\n",
       "      <td>1.503136e+18</td>\n",
       "      <td>NaN</td>\n",
       "      <td>NaN</td>\n",
       "      <td>NaN</td>\n",
       "      <td>NaN</td>\n",
       "      <td>NaN</td>\n",
       "      <td>NaN</td>\n",
       "      <td>NaN</td>\n",
       "      <td>NaN</td>\n",
       "      <td>NaN</td>\n",
       "      <td>0.000000</td>\n",
       "      <td>0.000000</td>\n",
       "      <td>1.503109e+18</td>\n",
       "      <td>1.503109e+18</td>\n",
       "    </tr>\n",
       "    <tr>\n",
       "      <th>50%</th>\n",
       "      <td>7.000000</td>\n",
       "      <td>1.503136e+18</td>\n",
       "      <td>1.503136e+18</td>\n",
       "      <td>NaN</td>\n",
       "      <td>NaN</td>\n",
       "      <td>NaN</td>\n",
       "      <td>NaN</td>\n",
       "      <td>NaN</td>\n",
       "      <td>NaN</td>\n",
       "      <td>NaN</td>\n",
       "      <td>NaN</td>\n",
       "      <td>NaN</td>\n",
       "      <td>0.000000</td>\n",
       "      <td>0.000000</td>\n",
       "      <td>1.503109e+18</td>\n",
       "      <td>1.503109e+18</td>\n",
       "    </tr>\n",
       "    <tr>\n",
       "      <th>75%</th>\n",
       "      <td>10.500000</td>\n",
       "      <td>1.503137e+18</td>\n",
       "      <td>1.503137e+18</td>\n",
       "      <td>NaN</td>\n",
       "      <td>NaN</td>\n",
       "      <td>NaN</td>\n",
       "      <td>NaN</td>\n",
       "      <td>NaN</td>\n",
       "      <td>NaN</td>\n",
       "      <td>NaN</td>\n",
       "      <td>NaN</td>\n",
       "      <td>NaN</td>\n",
       "      <td>2.500000</td>\n",
       "      <td>0.000000</td>\n",
       "      <td>1.503109e+18</td>\n",
       "      <td>1.503109e+18</td>\n",
       "    </tr>\n",
       "    <tr>\n",
       "      <th>max</th>\n",
       "      <td>14.000000</td>\n",
       "      <td>1.503138e+18</td>\n",
       "      <td>1.503138e+18</td>\n",
       "      <td>NaN</td>\n",
       "      <td>NaN</td>\n",
       "      <td>NaN</td>\n",
       "      <td>NaN</td>\n",
       "      <td>NaN</td>\n",
       "      <td>NaN</td>\n",
       "      <td>NaN</td>\n",
       "      <td>NaN</td>\n",
       "      <td>NaN</td>\n",
       "      <td>18.000000</td>\n",
       "      <td>2.000000</td>\n",
       "      <td>1.503109e+18</td>\n",
       "      <td>1.503109e+18</td>\n",
       "    </tr>\n",
       "  </tbody>\n",
       "</table>\n",
       "</div>"
      ],
      "text/plain": [
       "       Unnamed: 0            id        id_str  in_reply_to_status_id  \\\n",
       "count   15.000000  1.500000e+01  1.500000e+01                    0.0   \n",
       "mean     7.000000  1.503137e+18  1.503137e+18                    NaN   \n",
       "std      4.472136  1.042485e+12  1.042485e+12                    NaN   \n",
       "min      0.000000  1.503135e+18  1.503135e+18                    NaN   \n",
       "25%      3.500000  1.503136e+18  1.503136e+18                    NaN   \n",
       "50%      7.000000  1.503136e+18  1.503136e+18                    NaN   \n",
       "75%     10.500000  1.503137e+18  1.503137e+18                    NaN   \n",
       "max     14.000000  1.503138e+18  1.503138e+18                    NaN   \n",
       "\n",
       "       in_reply_to_status_id_str  in_reply_to_user_id  \\\n",
       "count                        0.0                  0.0   \n",
       "mean                         NaN                  NaN   \n",
       "std                          NaN                  NaN   \n",
       "min                          NaN                  NaN   \n",
       "25%                          NaN                  NaN   \n",
       "50%                          NaN                  NaN   \n",
       "75%                          NaN                  NaN   \n",
       "max                          NaN                  NaN   \n",
       "\n",
       "       in_reply_to_user_id_str  in_reply_to_screen_name  geo  coordinates  \\\n",
       "count                      0.0                      0.0  0.0          0.0   \n",
       "mean                       NaN                      NaN  NaN          NaN   \n",
       "std                        NaN                      NaN  NaN          NaN   \n",
       "min                        NaN                      NaN  NaN          NaN   \n",
       "25%                        NaN                      NaN  NaN          NaN   \n",
       "50%                        NaN                      NaN  NaN          NaN   \n",
       "75%                        NaN                      NaN  NaN          NaN   \n",
       "max                        NaN                      NaN  NaN          NaN   \n",
       "\n",
       "       place  contributors  retweet_count  favorite_count  quoted_status_id  \\\n",
       "count    0.0           0.0      15.000000       15.000000      1.000000e+00   \n",
       "mean     NaN           NaN       3.200000        0.133333      1.503109e+18   \n",
       "std      NaN           NaN       6.178303        0.516398               NaN   \n",
       "min      NaN           NaN       0.000000        0.000000      1.503109e+18   \n",
       "25%      NaN           NaN       0.000000        0.000000      1.503109e+18   \n",
       "50%      NaN           NaN       0.000000        0.000000      1.503109e+18   \n",
       "75%      NaN           NaN       2.500000        0.000000      1.503109e+18   \n",
       "max      NaN           NaN      18.000000        2.000000      1.503109e+18   \n",
       "\n",
       "       quoted_status_id_str  \n",
       "count          1.000000e+00  \n",
       "mean           1.503109e+18  \n",
       "std                     NaN  \n",
       "min            1.503109e+18  \n",
       "25%            1.503109e+18  \n",
       "50%            1.503109e+18  \n",
       "75%            1.503109e+18  \n",
       "max            1.503109e+18  "
      ]
     },
     "execution_count": 93,
     "metadata": {},
     "output_type": "execute_result"
    }
   ],
   "source": [
    "#Summarise the global_twitter_info data\n",
    "#Note the amount of NAN values in the dataset\n",
    "global_twitter_info.describe()"
   ]
  },
  {
   "cell_type": "code",
   "execution_count": 94,
   "id": "e8d7d10f",
   "metadata": {},
   "outputs": [
    {
     "data": {
      "text/html": [
       "<div>\n",
       "<style scoped>\n",
       "    .dataframe tbody tr th:only-of-type {\n",
       "        vertical-align: middle;\n",
       "    }\n",
       "\n",
       "    .dataframe tbody tr th {\n",
       "        vertical-align: top;\n",
       "    }\n",
       "\n",
       "    .dataframe thead th {\n",
       "        text-align: right;\n",
       "    }\n",
       "</style>\n",
       "<table border=\"1\" class=\"dataframe\">\n",
       "  <thead>\n",
       "    <tr style=\"text-align: right;\">\n",
       "      <th></th>\n",
       "      <th>id</th>\n",
       "      <th>id_str</th>\n",
       "      <th>in_reply_to_status_id</th>\n",
       "      <th>in_reply_to_status_id_str</th>\n",
       "      <th>in_reply_to_user_id</th>\n",
       "      <th>in_reply_to_user_id_str</th>\n",
       "      <th>contributors</th>\n",
       "      <th>retweet_count</th>\n",
       "      <th>favorite_count</th>\n",
       "      <th>quoted_status_id</th>\n",
       "      <th>quoted_status_id_str</th>\n",
       "    </tr>\n",
       "  </thead>\n",
       "  <tbody>\n",
       "    <tr>\n",
       "      <th>count</th>\n",
       "      <td>1.000000e+02</td>\n",
       "      <td>1.000000e+02</td>\n",
       "      <td>8.000000e+00</td>\n",
       "      <td>8.000000e+00</td>\n",
       "      <td>1.100000e+01</td>\n",
       "      <td>1.100000e+01</td>\n",
       "      <td>0.0</td>\n",
       "      <td>100.000000</td>\n",
       "      <td>100.000000</td>\n",
       "      <td>1.200000e+01</td>\n",
       "      <td>1.200000e+01</td>\n",
       "    </tr>\n",
       "    <tr>\n",
       "      <th>mean</th>\n",
       "      <td>1.505375e+18</td>\n",
       "      <td>1.505375e+18</td>\n",
       "      <td>1.504785e+18</td>\n",
       "      <td>1.504785e+18</td>\n",
       "      <td>3.837523e+17</td>\n",
       "      <td>3.837523e+17</td>\n",
       "      <td>NaN</td>\n",
       "      <td>1.070000</td>\n",
       "      <td>5.720000</td>\n",
       "      <td>1.505106e+18</td>\n",
       "      <td>1.505106e+18</td>\n",
       "    </tr>\n",
       "    <tr>\n",
       "      <th>std</th>\n",
       "      <td>3.921347e+14</td>\n",
       "      <td>3.921347e+14</td>\n",
       "      <td>1.482285e+15</td>\n",
       "      <td>1.482285e+15</td>\n",
       "      <td>6.591393e+17</td>\n",
       "      <td>6.591393e+17</td>\n",
       "      <td>NaN</td>\n",
       "      <td>3.742346</td>\n",
       "      <td>14.238999</td>\n",
       "      <td>5.191245e+14</td>\n",
       "      <td>5.191245e+14</td>\n",
       "    </tr>\n",
       "    <tr>\n",
       "      <th>min</th>\n",
       "      <td>1.504771e+18</td>\n",
       "      <td>1.504771e+18</td>\n",
       "      <td>1.501244e+18</td>\n",
       "      <td>1.501244e+18</td>\n",
       "      <td>5.105638e+07</td>\n",
       "      <td>5.105638e+07</td>\n",
       "      <td>NaN</td>\n",
       "      <td>0.000000</td>\n",
       "      <td>0.000000</td>\n",
       "      <td>1.504057e+18</td>\n",
       "      <td>1.504057e+18</td>\n",
       "    </tr>\n",
       "    <tr>\n",
       "      <th>25%</th>\n",
       "      <td>1.505089e+18</td>\n",
       "      <td>1.505089e+18</td>\n",
       "      <td>1.505019e+18</td>\n",
       "      <td>1.505019e+18</td>\n",
       "      <td>1.671128e+08</td>\n",
       "      <td>1.671128e+08</td>\n",
       "      <td>NaN</td>\n",
       "      <td>0.000000</td>\n",
       "      <td>0.000000</td>\n",
       "      <td>1.504820e+18</td>\n",
       "      <td>1.504820e+18</td>\n",
       "    </tr>\n",
       "    <tr>\n",
       "      <th>50%</th>\n",
       "      <td>1.505399e+18</td>\n",
       "      <td>1.505399e+18</td>\n",
       "      <td>1.505357e+18</td>\n",
       "      <td>1.505357e+18</td>\n",
       "      <td>2.526551e+08</td>\n",
       "      <td>2.526551e+08</td>\n",
       "      <td>NaN</td>\n",
       "      <td>0.000000</td>\n",
       "      <td>1.000000</td>\n",
       "      <td>1.505054e+18</td>\n",
       "      <td>1.505054e+18</td>\n",
       "    </tr>\n",
       "    <tr>\n",
       "      <th>75%</th>\n",
       "      <td>1.505760e+18</td>\n",
       "      <td>1.505760e+18</td>\n",
       "      <td>1.505505e+18</td>\n",
       "      <td>1.505505e+18</td>\n",
       "      <td>6.392006e+17</td>\n",
       "      <td>6.392006e+17</td>\n",
       "      <td>NaN</td>\n",
       "      <td>1.000000</td>\n",
       "      <td>5.000000</td>\n",
       "      <td>1.505486e+18</td>\n",
       "      <td>1.505486e+18</td>\n",
       "    </tr>\n",
       "    <tr>\n",
       "      <th>max</th>\n",
       "      <td>1.506024e+18</td>\n",
       "      <td>1.506024e+18</td>\n",
       "      <td>1.505660e+18</td>\n",
       "      <td>1.505660e+18</td>\n",
       "      <td>1.473218e+18</td>\n",
       "      <td>1.473218e+18</td>\n",
       "      <td>NaN</td>\n",
       "      <td>32.000000</td>\n",
       "      <td>97.000000</td>\n",
       "      <td>1.505871e+18</td>\n",
       "      <td>1.505871e+18</td>\n",
       "    </tr>\n",
       "  </tbody>\n",
       "</table>\n",
       "</div>"
      ],
      "text/plain": [
       "                 id        id_str  in_reply_to_status_id  \\\n",
       "count  1.000000e+02  1.000000e+02           8.000000e+00   \n",
       "mean   1.505375e+18  1.505375e+18           1.504785e+18   \n",
       "std    3.921347e+14  3.921347e+14           1.482285e+15   \n",
       "min    1.504771e+18  1.504771e+18           1.501244e+18   \n",
       "25%    1.505089e+18  1.505089e+18           1.505019e+18   \n",
       "50%    1.505399e+18  1.505399e+18           1.505357e+18   \n",
       "75%    1.505760e+18  1.505760e+18           1.505505e+18   \n",
       "max    1.506024e+18  1.506024e+18           1.505660e+18   \n",
       "\n",
       "       in_reply_to_status_id_str  in_reply_to_user_id  \\\n",
       "count               8.000000e+00         1.100000e+01   \n",
       "mean                1.504785e+18         3.837523e+17   \n",
       "std                 1.482285e+15         6.591393e+17   \n",
       "min                 1.501244e+18         5.105638e+07   \n",
       "25%                 1.505019e+18         1.671128e+08   \n",
       "50%                 1.505357e+18         2.526551e+08   \n",
       "75%                 1.505505e+18         6.392006e+17   \n",
       "max                 1.505660e+18         1.473218e+18   \n",
       "\n",
       "       in_reply_to_user_id_str  contributors  retweet_count  favorite_count  \\\n",
       "count             1.100000e+01           0.0     100.000000      100.000000   \n",
       "mean              3.837523e+17           NaN       1.070000        5.720000   \n",
       "std               6.591393e+17           NaN       3.742346       14.238999   \n",
       "min               5.105638e+07           NaN       0.000000        0.000000   \n",
       "25%               1.671128e+08           NaN       0.000000        0.000000   \n",
       "50%               2.526551e+08           NaN       0.000000        1.000000   \n",
       "75%               6.392006e+17           NaN       1.000000        5.000000   \n",
       "max               1.473218e+18           NaN      32.000000       97.000000   \n",
       "\n",
       "       quoted_status_id  quoted_status_id_str  \n",
       "count      1.200000e+01          1.200000e+01  \n",
       "mean       1.505106e+18          1.505106e+18  \n",
       "std        5.191245e+14          5.191245e+14  \n",
       "min        1.504057e+18          1.504057e+18  \n",
       "25%        1.504820e+18          1.504820e+18  \n",
       "50%        1.505054e+18          1.505054e+18  \n",
       "75%        1.505486e+18          1.505486e+18  \n",
       "max        1.505871e+18          1.505871e+18  "
      ]
     },
     "execution_count": 94,
     "metadata": {},
     "output_type": "execute_result"
    }
   ],
   "source": [
    "#Summarise the global_twitter_info data\n",
    "#Note the amount of NAN values in the dataset\n",
    "global_twitter_info_two.describe()"
   ]
  },
  {
   "cell_type": "markdown",
   "id": "22805ee6",
   "metadata": {},
   "source": [
    "# 3.Data Wrangling"
   ]
  },
  {
   "cell_type": "markdown",
   "id": "89d537a5",
   "metadata": {},
   "source": [
    "## 3.1 Data Clean"
   ]
  },
  {
   "cell_type": "markdown",
   "id": "c2c332a3",
   "metadata": {},
   "source": [
    "### 3.1.1 Drop Missing Values and Handle NaN values"
   ]
  },
  {
   "cell_type": "code",
   "execution_count": 95,
   "id": "46319568",
   "metadata": {
    "scrolled": true
   },
   "outputs": [
    {
     "name": "stdout",
     "output_type": "stream",
     "text": [
      "Province/State              0\n",
      "Country/Region              0\n",
      "Lat                         0\n",
      "Long                        0\n",
      "ISO 3166-1 Alpha 3-Codes    0\n",
      "Sub-region Name             0\n",
      "Intermediate Region Code    0\n",
      "Date                        0\n",
      "Deaths                      2\n",
      "Cases                       2\n",
      "Recovered                   2\n",
      "Hospitalised                2\n",
      "dtype: int64\n"
     ]
    }
   ],
   "source": [
    "#Identify and drop missing values\n",
    "#Here I was looking for the missing values\n",
    "print(uk_covid_cases.isnull().sum())"
   ]
  },
  {
   "cell_type": "code",
   "execution_count": 97,
   "id": "837529fb",
   "metadata": {},
   "outputs": [
    {
     "data": {
      "text/plain": [
       "Province/State              7582\n",
       "Country/Region              7582\n",
       "Lat                         7582\n",
       "Long                        7582\n",
       "ISO 3166-1 Alpha 3-Codes    7582\n",
       "Sub-region Name             7582\n",
       "Intermediate Region Code    7582\n",
       "Date                        7582\n",
       "Deaths                      7582\n",
       "Cases                       7582\n",
       "Recovered                   7582\n",
       "Hospitalised                7582\n",
       "dtype: int64"
      ]
     },
     "execution_count": 97,
     "metadata": {},
     "output_type": "execute_result"
    }
   ],
   "source": [
    "#Here I dropped the missing values\n",
    "uk_covid_cases = uk_covid_cases.dropna()\n",
    "uk_covid_cases.count()"
   ]
  },
  {
   "cell_type": "code",
   "execution_count": 98,
   "id": "3390e209",
   "metadata": {},
   "outputs": [
    {
     "name": "stdout",
     "output_type": "stream",
     "text": [
      "Province/State              0\n",
      "Country/Region              0\n",
      "Lat                         0\n",
      "Long                        0\n",
      "ISO 3166-1 Alpha 3-Codes    0\n",
      "Sub-region Name             0\n",
      "Intermediate Region Code    0\n",
      "Date                        0\n",
      "Deaths                      0\n",
      "Cases                       0\n",
      "Recovered                   0\n",
      "Hospitalised                0\n",
      "dtype: int64\n"
     ]
    }
   ],
   "source": [
    "#Result after dropping missing values\n",
    "print(uk_covid_cases.isnull().sum())"
   ]
  },
  {
   "cell_type": "code",
   "execution_count": 99,
   "id": "c202a8b7",
   "metadata": {},
   "outputs": [
    {
     "data": {
      "text/html": [
       "<div>\n",
       "<style scoped>\n",
       "    .dataframe tbody tr th:only-of-type {\n",
       "        vertical-align: middle;\n",
       "    }\n",
       "\n",
       "    .dataframe tbody tr th {\n",
       "        vertical-align: top;\n",
       "    }\n",
       "\n",
       "    .dataframe thead th {\n",
       "        text-align: right;\n",
       "    }\n",
       "</style>\n",
       "<table border=\"1\" class=\"dataframe\">\n",
       "  <thead>\n",
       "    <tr style=\"text-align: right;\">\n",
       "      <th></th>\n",
       "      <th>Province/State</th>\n",
       "      <th>Country/Region</th>\n",
       "      <th>Lat</th>\n",
       "      <th>Long</th>\n",
       "      <th>ISO 3166-1 Alpha 3-Codes</th>\n",
       "      <th>Sub-region Name</th>\n",
       "      <th>Intermediate Region Code</th>\n",
       "      <th>Date</th>\n",
       "      <th>Vaccinated</th>\n",
       "      <th>First Dose</th>\n",
       "      <th>Second Dose</th>\n",
       "    </tr>\n",
       "  </thead>\n",
       "  <tbody>\n",
       "    <tr>\n",
       "      <th>0</th>\n",
       "      <td>Anguilla</td>\n",
       "      <td>United Kingdom</td>\n",
       "      <td>18.2206</td>\n",
       "      <td>-63.0686</td>\n",
       "      <td>AIA</td>\n",
       "      <td>Latin America and the Caribbean</td>\n",
       "      <td>29</td>\n",
       "      <td>2020-01-22</td>\n",
       "      <td>0</td>\n",
       "      <td>0</td>\n",
       "      <td>0</td>\n",
       "    </tr>\n",
       "    <tr>\n",
       "      <th>1</th>\n",
       "      <td>Anguilla</td>\n",
       "      <td>United Kingdom</td>\n",
       "      <td>18.2206</td>\n",
       "      <td>-63.0686</td>\n",
       "      <td>AIA</td>\n",
       "      <td>Latin America and the Caribbean</td>\n",
       "      <td>29</td>\n",
       "      <td>2020-01-23</td>\n",
       "      <td>0</td>\n",
       "      <td>0</td>\n",
       "      <td>0</td>\n",
       "    </tr>\n",
       "  </tbody>\n",
       "</table>\n",
       "</div>"
      ],
      "text/plain": [
       "  Province/State  Country/Region      Lat     Long ISO 3166-1 Alpha 3-Codes  \\\n",
       "0       Anguilla  United Kingdom  18.2206 -63.0686                      AIA   \n",
       "1       Anguilla  United Kingdom  18.2206 -63.0686                      AIA   \n",
       "\n",
       "                   Sub-region Name  Intermediate Region Code       Date  \\\n",
       "0  Latin America and the Caribbean                        29 2020-01-22   \n",
       "1  Latin America and the Caribbean                        29 2020-01-23   \n",
       "\n",
       "   Vaccinated  First Dose  Second Dose  \n",
       "0           0           0            0  \n",
       "1           0           0            0  "
      ]
     },
     "execution_count": 99,
     "metadata": {},
     "output_type": "execute_result"
    }
   ],
   "source": [
    "#I noticed the vacinnated data set had alot of NAN values\n",
    "#We will handle this missing data with value\n",
    "uk_vaccinations.fillna(0.0)\n",
    "uk_vaccinations.head(2)\n",
    "\n",
    "#This changed the na values for 0"
   ]
  },
  {
   "cell_type": "code",
   "execution_count": 100,
   "id": "555d1ed2",
   "metadata": {},
   "outputs": [],
   "source": [
    "#Drop the Province/State cell from the Global Covid Cases, too many NAN values.\n",
    "#Expect Error code since action has been completed\n",
    "#global_covid_cases = global_covid_cases.drop(\"Province/State\", axis=1)\n",
    "\n",
    "#Be careful, once the function has been run it will return a error code. Only run the script once then block the code with #."
   ]
  },
  {
   "cell_type": "code",
   "execution_count": 101,
   "id": "dd212cbb",
   "metadata": {},
   "outputs": [
    {
     "data": {
      "text/html": [
       "<div>\n",
       "<style scoped>\n",
       "    .dataframe tbody tr th:only-of-type {\n",
       "        vertical-align: middle;\n",
       "    }\n",
       "\n",
       "    .dataframe tbody tr th {\n",
       "        vertical-align: top;\n",
       "    }\n",
       "\n",
       "    .dataframe thead th {\n",
       "        text-align: right;\n",
       "    }\n",
       "</style>\n",
       "<table border=\"1\" class=\"dataframe\">\n",
       "  <thead>\n",
       "    <tr style=\"text-align: right;\">\n",
       "      <th></th>\n",
       "      <th>Province/State</th>\n",
       "      <th>Country/Region</th>\n",
       "      <th>Lat</th>\n",
       "      <th>Long</th>\n",
       "      <th>1/22/20</th>\n",
       "      <th>1/23/20</th>\n",
       "      <th>1/24/20</th>\n",
       "      <th>1/25/20</th>\n",
       "      <th>1/26/20</th>\n",
       "      <th>1/27/20</th>\n",
       "      <th>...</th>\n",
       "      <th>10/5/21</th>\n",
       "      <th>10/6/21</th>\n",
       "      <th>10/7/21</th>\n",
       "      <th>10/8/21</th>\n",
       "      <th>10/9/21</th>\n",
       "      <th>10/10/21</th>\n",
       "      <th>10/11/21</th>\n",
       "      <th>10/12/21</th>\n",
       "      <th>10/13/21</th>\n",
       "      <th>10/14/21</th>\n",
       "    </tr>\n",
       "  </thead>\n",
       "  <tbody>\n",
       "    <tr>\n",
       "      <th>0</th>\n",
       "      <td>NaN</td>\n",
       "      <td>Afghanistan</td>\n",
       "      <td>33.93911</td>\n",
       "      <td>67.709953</td>\n",
       "      <td>0</td>\n",
       "      <td>0</td>\n",
       "      <td>0</td>\n",
       "      <td>0</td>\n",
       "      <td>0</td>\n",
       "      <td>0</td>\n",
       "      <td>...</td>\n",
       "      <td>155309</td>\n",
       "      <td>155380</td>\n",
       "      <td>155429</td>\n",
       "      <td>155448</td>\n",
       "      <td>155466</td>\n",
       "      <td>155508</td>\n",
       "      <td>155540</td>\n",
       "      <td>155599</td>\n",
       "      <td>155627</td>\n",
       "      <td>155682</td>\n",
       "    </tr>\n",
       "    <tr>\n",
       "      <th>1</th>\n",
       "      <td>NaN</td>\n",
       "      <td>Albania</td>\n",
       "      <td>41.15330</td>\n",
       "      <td>20.168300</td>\n",
       "      <td>0</td>\n",
       "      <td>0</td>\n",
       "      <td>0</td>\n",
       "      <td>0</td>\n",
       "      <td>0</td>\n",
       "      <td>0</td>\n",
       "      <td>...</td>\n",
       "      <td>172618</td>\n",
       "      <td>173190</td>\n",
       "      <td>173723</td>\n",
       "      <td>174168</td>\n",
       "      <td>174643</td>\n",
       "      <td>174968</td>\n",
       "      <td>175163</td>\n",
       "      <td>175664</td>\n",
       "      <td>176172</td>\n",
       "      <td>176667</td>\n",
       "    </tr>\n",
       "  </tbody>\n",
       "</table>\n",
       "<p>2 rows × 636 columns</p>\n",
       "</div>"
      ],
      "text/plain": [
       "  Province/State Country/Region       Lat       Long  1/22/20  1/23/20  \\\n",
       "0            NaN    Afghanistan  33.93911  67.709953        0        0   \n",
       "1            NaN        Albania  41.15330  20.168300        0        0   \n",
       "\n",
       "   1/24/20  1/25/20  1/26/20  1/27/20  ...  10/5/21  10/6/21  10/7/21  \\\n",
       "0        0        0        0        0  ...   155309   155380   155429   \n",
       "1        0        0        0        0  ...   172618   173190   173723   \n",
       "\n",
       "   10/8/21  10/9/21  10/10/21  10/11/21  10/12/21  10/13/21  10/14/21  \n",
       "0   155448   155466    155508    155540    155599    155627    155682  \n",
       "1   174168   174643    174968    175163    175664    176172    176667  \n",
       "\n",
       "[2 rows x 636 columns]"
      ]
     },
     "execution_count": 101,
     "metadata": {},
     "output_type": "execute_result"
    }
   ],
   "source": [
    "#Evidence of Province/State has been dropped\n",
    "global_covid_cases.head(2)"
   ]
  },
  {
   "cell_type": "markdown",
   "id": "1f3c415c",
   "metadata": {},
   "source": [
    "### 3.1.2  Sort the data to ascending"
   ]
  },
  {
   "cell_type": "code",
   "execution_count": 102,
   "id": "8a5a5f1e",
   "metadata": {},
   "outputs": [],
   "source": [
    "# Sort the data from the excel files\n",
    "uk_covid_cases = pd.read_csv('covid_19_uk_cases.csv')\n",
    "uk_covid_cases =uk_covid_cases.sort_values(by='Date', ascending=True)\n",
    "\n",
    "uk_vaccinations = pd.read_csv('covid_19_uk_vaccinated.csv')\n",
    "uk_vaccinations = uk_vaccinations.sort_values(by='Date', ascending=True)"
   ]
  },
  {
   "cell_type": "markdown",
   "id": "af2f5571",
   "metadata": {},
   "source": [
    "# 3.2. Data Transform"
   ]
  },
  {
   "cell_type": "code",
   "execution_count": 103,
   "id": "e5ec9fea",
   "metadata": {},
   "outputs": [
    {
     "data": {
      "text/html": [
       "<div>\n",
       "<style scoped>\n",
       "    .dataframe tbody tr th:only-of-type {\n",
       "        vertical-align: middle;\n",
       "    }\n",
       "\n",
       "    .dataframe tbody tr th {\n",
       "        vertical-align: top;\n",
       "    }\n",
       "\n",
       "    .dataframe thead th {\n",
       "        text-align: right;\n",
       "    }\n",
       "</style>\n",
       "<table border=\"1\" class=\"dataframe\">\n",
       "  <thead>\n",
       "    <tr style=\"text-align: right;\">\n",
       "      <th></th>\n",
       "      <th>Province/State</th>\n",
       "      <th>Country/Region</th>\n",
       "      <th>Lat</th>\n",
       "      <th>Long</th>\n",
       "      <th>ISO 3166-1 Alpha 3-Codes</th>\n",
       "      <th>Sub-region Name</th>\n",
       "      <th>Intermediate Region Code</th>\n",
       "      <th>Date</th>\n",
       "      <th>Deaths</th>\n",
       "      <th>Cases</th>\n",
       "      <th>Recovered</th>\n",
       "      <th>Hospitalised</th>\n",
       "      <th>Vaccinated</th>\n",
       "      <th>First Dose</th>\n",
       "      <th>Second Dose</th>\n",
       "    </tr>\n",
       "  </thead>\n",
       "  <tbody>\n",
       "    <tr>\n",
       "      <th>0</th>\n",
       "      <td>Anguilla</td>\n",
       "      <td>United Kingdom</td>\n",
       "      <td>18.2206</td>\n",
       "      <td>-63.0686</td>\n",
       "      <td>AIA</td>\n",
       "      <td>Latin America and the Caribbean</td>\n",
       "      <td>29</td>\n",
       "      <td>2020-01-22</td>\n",
       "      <td>0.0</td>\n",
       "      <td>0.0</td>\n",
       "      <td>0.0</td>\n",
       "      <td>0.0</td>\n",
       "      <td>NaN</td>\n",
       "      <td>NaN</td>\n",
       "      <td>NaN</td>\n",
       "    </tr>\n",
       "    <tr>\n",
       "      <th>1264</th>\n",
       "      <td>British Virgin Islands</td>\n",
       "      <td>United Kingdom</td>\n",
       "      <td>18.4207</td>\n",
       "      <td>-64.6400</td>\n",
       "      <td>VGB</td>\n",
       "      <td>Latin America and the Caribbean</td>\n",
       "      <td>29</td>\n",
       "      <td>2020-01-22</td>\n",
       "      <td>0.0</td>\n",
       "      <td>0.0</td>\n",
       "      <td>0.0</td>\n",
       "      <td>0.0</td>\n",
       "      <td>NaN</td>\n",
       "      <td>NaN</td>\n",
       "      <td>NaN</td>\n",
       "    </tr>\n",
       "  </tbody>\n",
       "</table>\n",
       "</div>"
      ],
      "text/plain": [
       "              Province/State  Country/Region      Lat     Long  \\\n",
       "0                   Anguilla  United Kingdom  18.2206 -63.0686   \n",
       "1264  British Virgin Islands  United Kingdom  18.4207 -64.6400   \n",
       "\n",
       "     ISO 3166-1 Alpha 3-Codes                  Sub-region Name  \\\n",
       "0                         AIA  Latin America and the Caribbean   \n",
       "1264                      VGB  Latin America and the Caribbean   \n",
       "\n",
       "      Intermediate Region Code        Date  Deaths  Cases  Recovered  \\\n",
       "0                           29  2020-01-22     0.0    0.0        0.0   \n",
       "1264                        29  2020-01-22     0.0    0.0        0.0   \n",
       "\n",
       "      Hospitalised  Vaccinated  First Dose  Second Dose  \n",
       "0              0.0         NaN         NaN          NaN  \n",
       "1264           0.0         NaN         NaN          NaN  "
      ]
     },
     "execution_count": 103,
     "metadata": {},
     "output_type": "execute_result"
    }
   ],
   "source": [
    "#For future analysis I merged the covid cases and vaccination data into one, this could possibly answer new questions.\n",
    "cases_vaccinated = pd.concat([uk_covid_cases,uk_vaccinations])\n",
    "cases_vaccinated.fillna(0)\n",
    "cases_vaccinated.head(2)"
   ]
  },
  {
   "cell_type": "code",
   "execution_count": 104,
   "id": "039faba6",
   "metadata": {
    "scrolled": true
   },
   "outputs": [
    {
     "data": {
      "text/html": [
       "<div>\n",
       "<style scoped>\n",
       "    .dataframe tbody tr th:only-of-type {\n",
       "        vertical-align: middle;\n",
       "    }\n",
       "\n",
       "    .dataframe tbody tr th {\n",
       "        vertical-align: top;\n",
       "    }\n",
       "\n",
       "    .dataframe thead th {\n",
       "        text-align: right;\n",
       "    }\n",
       "</style>\n",
       "<table border=\"1\" class=\"dataframe\">\n",
       "  <thead>\n",
       "    <tr style=\"text-align: right;\">\n",
       "      <th></th>\n",
       "      <th>Sub-region Name</th>\n",
       "      <th>Deaths</th>\n",
       "      <th>Cases</th>\n",
       "      <th>Recovered</th>\n",
       "      <th>Hospitalised</th>\n",
       "    </tr>\n",
       "  </thead>\n",
       "  <tbody>\n",
       "    <tr>\n",
       "      <th>0</th>\n",
       "      <td>Latin America and the Caribbean</td>\n",
       "      <td>0.0</td>\n",
       "      <td>0.0</td>\n",
       "      <td>0.0</td>\n",
       "      <td>0.0</td>\n",
       "    </tr>\n",
       "    <tr>\n",
       "      <th>1</th>\n",
       "      <td>Latin America and the Caribbean</td>\n",
       "      <td>0.0</td>\n",
       "      <td>0.0</td>\n",
       "      <td>0.0</td>\n",
       "      <td>0.0</td>\n",
       "    </tr>\n",
       "    <tr>\n",
       "      <th>2</th>\n",
       "      <td>Latin America and the Caribbean</td>\n",
       "      <td>0.0</td>\n",
       "      <td>0.0</td>\n",
       "      <td>0.0</td>\n",
       "      <td>0.0</td>\n",
       "    </tr>\n",
       "    <tr>\n",
       "      <th>3</th>\n",
       "      <td>Latin America and the Caribbean</td>\n",
       "      <td>0.0</td>\n",
       "      <td>0.0</td>\n",
       "      <td>0.0</td>\n",
       "      <td>0.0</td>\n",
       "    </tr>\n",
       "    <tr>\n",
       "      <th>4</th>\n",
       "      <td>Latin America and the Caribbean</td>\n",
       "      <td>0.0</td>\n",
       "      <td>0.0</td>\n",
       "      <td>0.0</td>\n",
       "      <td>0.0</td>\n",
       "    </tr>\n",
       "  </tbody>\n",
       "</table>\n",
       "</div>"
      ],
      "text/plain": [
       "                   Sub-region Name  Deaths  Cases  Recovered  Hospitalised\n",
       "0  Latin America and the Caribbean     0.0    0.0        0.0           0.0\n",
       "1  Latin America and the Caribbean     0.0    0.0        0.0           0.0\n",
       "2  Latin America and the Caribbean     0.0    0.0        0.0           0.0\n",
       "3  Latin America and the Caribbean     0.0    0.0        0.0           0.0\n",
       "4  Latin America and the Caribbean     0.0    0.0        0.0           0.0"
      ]
     },
     "execution_count": 104,
     "metadata": {},
     "output_type": "execute_result"
    }
   ],
   "source": [
    "#Create a new data set focusing on deaths, hospitalisation, cases and recovery \n",
    "uk_covid_cases_two = pd.read_csv('covid_19_uk_cases.csv')\n",
    "uk_covid_cases_two = uk_covid_cases_two.drop(['Province/State', 'Country/Region','Lat','Long','ISO 3166-1 Alpha 3-Codes', 'Intermediate Region Code', 'Date'], axis=1)\n",
    "uk_covid_cases_two.head()"
   ]
  },
  {
   "cell_type": "code",
   "execution_count": 105,
   "id": "9e6788ad",
   "metadata": {},
   "outputs": [
    {
     "data": {
      "text/html": [
       "<div>\n",
       "<style scoped>\n",
       "    .dataframe tbody tr th:only-of-type {\n",
       "        vertical-align: middle;\n",
       "    }\n",
       "\n",
       "    .dataframe tbody tr th {\n",
       "        vertical-align: top;\n",
       "    }\n",
       "\n",
       "    .dataframe thead th {\n",
       "        text-align: right;\n",
       "    }\n",
       "</style>\n",
       "<table border=\"1\" class=\"dataframe\">\n",
       "  <thead>\n",
       "    <tr style=\"text-align: right;\">\n",
       "      <th></th>\n",
       "      <th>Sub-region Name</th>\n",
       "      <th>Deaths</th>\n",
       "      <th>Cases</th>\n",
       "      <th>Recovered</th>\n",
       "      <th>Hospitalised</th>\n",
       "    </tr>\n",
       "  </thead>\n",
       "  <tbody>\n",
       "    <tr>\n",
       "      <th>0</th>\n",
       "      <td>Latin America and the Caribbean</td>\n",
       "      <td>0.0</td>\n",
       "      <td>0.0</td>\n",
       "      <td>0.0</td>\n",
       "      <td>0.0</td>\n",
       "    </tr>\n",
       "    <tr>\n",
       "      <th>1</th>\n",
       "      <td>Latin America and the Caribbean</td>\n",
       "      <td>0.0</td>\n",
       "      <td>0.0</td>\n",
       "      <td>0.0</td>\n",
       "      <td>0.0</td>\n",
       "    </tr>\n",
       "    <tr>\n",
       "      <th>2</th>\n",
       "      <td>Latin America and the Caribbean</td>\n",
       "      <td>0.0</td>\n",
       "      <td>0.0</td>\n",
       "      <td>0.0</td>\n",
       "      <td>0.0</td>\n",
       "    </tr>\n",
       "    <tr>\n",
       "      <th>3</th>\n",
       "      <td>Latin America and the Caribbean</td>\n",
       "      <td>0.0</td>\n",
       "      <td>0.0</td>\n",
       "      <td>0.0</td>\n",
       "      <td>0.0</td>\n",
       "    </tr>\n",
       "    <tr>\n",
       "      <th>4</th>\n",
       "      <td>Latin America and the Caribbean</td>\n",
       "      <td>0.0</td>\n",
       "      <td>0.0</td>\n",
       "      <td>0.0</td>\n",
       "      <td>0.0</td>\n",
       "    </tr>\n",
       "    <tr>\n",
       "      <th>...</th>\n",
       "      <td>...</td>\n",
       "      <td>...</td>\n",
       "      <td>...</td>\n",
       "      <td>...</td>\n",
       "      <td>...</td>\n",
       "    </tr>\n",
       "    <tr>\n",
       "      <th>7579</th>\n",
       "      <td>Northern Europe</td>\n",
       "      <td>137735.0</td>\n",
       "      <td>8154306.0</td>\n",
       "      <td>0.0</td>\n",
       "      <td>378.0</td>\n",
       "    </tr>\n",
       "    <tr>\n",
       "      <th>7580</th>\n",
       "      <td>Northern Europe</td>\n",
       "      <td>137763.0</td>\n",
       "      <td>8193769.0</td>\n",
       "      <td>0.0</td>\n",
       "      <td>386.0</td>\n",
       "    </tr>\n",
       "    <tr>\n",
       "      <th>7581</th>\n",
       "      <td>Northern Europe</td>\n",
       "      <td>137944.0</td>\n",
       "      <td>8231437.0</td>\n",
       "      <td>0.0</td>\n",
       "      <td>386.0</td>\n",
       "    </tr>\n",
       "    <tr>\n",
       "      <th>7582</th>\n",
       "      <td>Northern Europe</td>\n",
       "      <td>138080.0</td>\n",
       "      <td>8272883.0</td>\n",
       "      <td>0.0</td>\n",
       "      <td>0.0</td>\n",
       "    </tr>\n",
       "    <tr>\n",
       "      <th>7583</th>\n",
       "      <td>Northern Europe</td>\n",
       "      <td>138237.0</td>\n",
       "      <td>8317439.0</td>\n",
       "      <td>0.0</td>\n",
       "      <td>0.0</td>\n",
       "    </tr>\n",
       "  </tbody>\n",
       "</table>\n",
       "<p>7584 rows × 5 columns</p>\n",
       "</div>"
      ],
      "text/plain": [
       "                      Sub-region Name    Deaths      Cases  Recovered  \\\n",
       "0     Latin America and the Caribbean       0.0        0.0        0.0   \n",
       "1     Latin America and the Caribbean       0.0        0.0        0.0   \n",
       "2     Latin America and the Caribbean       0.0        0.0        0.0   \n",
       "3     Latin America and the Caribbean       0.0        0.0        0.0   \n",
       "4     Latin America and the Caribbean       0.0        0.0        0.0   \n",
       "...                               ...       ...        ...        ...   \n",
       "7579                  Northern Europe  137735.0  8154306.0        0.0   \n",
       "7580                  Northern Europe  137763.0  8193769.0        0.0   \n",
       "7581                  Northern Europe  137944.0  8231437.0        0.0   \n",
       "7582                  Northern Europe  138080.0  8272883.0        0.0   \n",
       "7583                  Northern Europe  138237.0  8317439.0        0.0   \n",
       "\n",
       "      Hospitalised  \n",
       "0              0.0  \n",
       "1              0.0  \n",
       "2              0.0  \n",
       "3              0.0  \n",
       "4              0.0  \n",
       "...            ...  \n",
       "7579         378.0  \n",
       "7580         386.0  \n",
       "7581         386.0  \n",
       "7582           0.0  \n",
       "7583           0.0  \n",
       "\n",
       "[7584 rows x 5 columns]"
      ]
     },
     "execution_count": 105,
     "metadata": {},
     "output_type": "execute_result"
    }
   ],
   "source": [
    "#replace NAN values with 0\n",
    "uk_covid_cases_two.fillna(0.0)"
   ]
  },
  {
   "cell_type": "code",
   "execution_count": 106,
   "id": "5f2fa56d",
   "metadata": {},
   "outputs": [
    {
     "data": {
      "text/html": [
       "<div>\n",
       "<style scoped>\n",
       "    .dataframe tbody tr th:only-of-type {\n",
       "        vertical-align: middle;\n",
       "    }\n",
       "\n",
       "    .dataframe tbody tr th {\n",
       "        vertical-align: top;\n",
       "    }\n",
       "\n",
       "    .dataframe thead th {\n",
       "        text-align: right;\n",
       "    }\n",
       "</style>\n",
       "<table border=\"1\" class=\"dataframe\">\n",
       "  <thead>\n",
       "    <tr style=\"text-align: right;\">\n",
       "      <th></th>\n",
       "      <th>Sub-region Name</th>\n",
       "      <th>Vaccinated</th>\n",
       "      <th>First Dose</th>\n",
       "      <th>Second Dose</th>\n",
       "    </tr>\n",
       "  </thead>\n",
       "  <tbody>\n",
       "    <tr>\n",
       "      <th>0</th>\n",
       "      <td>Latin America and the Caribbean</td>\n",
       "      <td>0</td>\n",
       "      <td>0</td>\n",
       "      <td>0</td>\n",
       "    </tr>\n",
       "    <tr>\n",
       "      <th>1</th>\n",
       "      <td>Latin America and the Caribbean</td>\n",
       "      <td>0</td>\n",
       "      <td>0</td>\n",
       "      <td>0</td>\n",
       "    </tr>\n",
       "    <tr>\n",
       "      <th>2</th>\n",
       "      <td>Latin America and the Caribbean</td>\n",
       "      <td>0</td>\n",
       "      <td>0</td>\n",
       "      <td>0</td>\n",
       "    </tr>\n",
       "    <tr>\n",
       "      <th>3</th>\n",
       "      <td>Latin America and the Caribbean</td>\n",
       "      <td>0</td>\n",
       "      <td>0</td>\n",
       "      <td>0</td>\n",
       "    </tr>\n",
       "    <tr>\n",
       "      <th>4</th>\n",
       "      <td>Latin America and the Caribbean</td>\n",
       "      <td>0</td>\n",
       "      <td>0</td>\n",
       "      <td>0</td>\n",
       "    </tr>\n",
       "  </tbody>\n",
       "</table>\n",
       "</div>"
      ],
      "text/plain": [
       "                   Sub-region Name  Vaccinated  First Dose  Second Dose\n",
       "0  Latin America and the Caribbean           0           0            0\n",
       "1  Latin America and the Caribbean           0           0            0\n",
       "2  Latin America and the Caribbean           0           0            0\n",
       "3  Latin America and the Caribbean           0           0            0\n",
       "4  Latin America and the Caribbean           0           0            0"
      ]
     },
     "execution_count": 106,
     "metadata": {},
     "output_type": "execute_result"
    }
   ],
   "source": [
    "#Create a new data set focusing on vaccination, first dose and second dose\n",
    "uk_vaccinations = pd.read_csv('covid_19_uk_vaccinated.csv')\n",
    "uk_vaccinations_two = uk_vaccinations.drop(['Province/State', 'Country/Region','Lat','Long','ISO 3166-1 Alpha 3-Codes', 'Intermediate Region Code', 'Date'], axis=1)\n",
    "uk_vaccinations_two.head()"
   ]
  },
  {
   "cell_type": "code",
   "execution_count": 107,
   "id": "a6034991",
   "metadata": {},
   "outputs": [
    {
     "data": {
      "text/html": [
       "<div>\n",
       "<style scoped>\n",
       "    .dataframe tbody tr th:only-of-type {\n",
       "        vertical-align: middle;\n",
       "    }\n",
       "\n",
       "    .dataframe tbody tr th {\n",
       "        vertical-align: top;\n",
       "    }\n",
       "\n",
       "    .dataframe thead th {\n",
       "        text-align: right;\n",
       "    }\n",
       "</style>\n",
       "<table border=\"1\" class=\"dataframe\">\n",
       "  <thead>\n",
       "    <tr style=\"text-align: right;\">\n",
       "      <th></th>\n",
       "      <th>Sub-region Name</th>\n",
       "      <th>Vaccinated</th>\n",
       "      <th>First Dose</th>\n",
       "      <th>Second Dose</th>\n",
       "    </tr>\n",
       "  </thead>\n",
       "  <tbody>\n",
       "    <tr>\n",
       "      <th>0</th>\n",
       "      <td>Latin America and the Caribbean</td>\n",
       "      <td>0</td>\n",
       "      <td>0</td>\n",
       "      <td>0</td>\n",
       "    </tr>\n",
       "    <tr>\n",
       "      <th>1</th>\n",
       "      <td>Latin America and the Caribbean</td>\n",
       "      <td>0</td>\n",
       "      <td>0</td>\n",
       "      <td>0</td>\n",
       "    </tr>\n",
       "  </tbody>\n",
       "</table>\n",
       "</div>"
      ],
      "text/plain": [
       "                   Sub-region Name  Vaccinated  First Dose  Second Dose\n",
       "0  Latin America and the Caribbean           0           0            0\n",
       "1  Latin America and the Caribbean           0           0            0"
      ]
     },
     "execution_count": 107,
     "metadata": {},
     "output_type": "execute_result"
    }
   ],
   "source": [
    "#replace NAN values with 0\n",
    "uk_vaccinations_two.fillna(0.0)\n",
    "uk_vaccinations_two.head(2)"
   ]
  },
  {
   "cell_type": "code",
   "execution_count": 108,
   "id": "36c7fae4",
   "metadata": {},
   "outputs": [
    {
     "data": {
      "text/html": [
       "<div>\n",
       "<style scoped>\n",
       "    .dataframe tbody tr th:only-of-type {\n",
       "        vertical-align: middle;\n",
       "    }\n",
       "\n",
       "    .dataframe tbody tr th {\n",
       "        vertical-align: top;\n",
       "    }\n",
       "\n",
       "    .dataframe thead th {\n",
       "        text-align: right;\n",
       "    }\n",
       "</style>\n",
       "<table border=\"1\" class=\"dataframe\">\n",
       "  <thead>\n",
       "    <tr style=\"text-align: right;\">\n",
       "      <th></th>\n",
       "      <th>Vaccinated</th>\n",
       "      <th>First Dose</th>\n",
       "      <th>Second Dose</th>\n",
       "    </tr>\n",
       "  </thead>\n",
       "  <tbody>\n",
       "    <tr>\n",
       "      <th>0</th>\n",
       "      <td>0</td>\n",
       "      <td>0</td>\n",
       "      <td>0</td>\n",
       "    </tr>\n",
       "    <tr>\n",
       "      <th>1</th>\n",
       "      <td>0</td>\n",
       "      <td>0</td>\n",
       "      <td>0</td>\n",
       "    </tr>\n",
       "    <tr>\n",
       "      <th>2</th>\n",
       "      <td>0</td>\n",
       "      <td>0</td>\n",
       "      <td>0</td>\n",
       "    </tr>\n",
       "    <tr>\n",
       "      <th>3</th>\n",
       "      <td>0</td>\n",
       "      <td>0</td>\n",
       "      <td>0</td>\n",
       "    </tr>\n",
       "    <tr>\n",
       "      <th>4</th>\n",
       "      <td>0</td>\n",
       "      <td>0</td>\n",
       "      <td>0</td>\n",
       "    </tr>\n",
       "  </tbody>\n",
       "</table>\n",
       "</div>"
      ],
      "text/plain": [
       "   Vaccinated  First Dose  Second Dose\n",
       "0           0           0            0\n",
       "1           0           0            0\n",
       "2           0           0            0\n",
       "3           0           0            0\n",
       "4           0           0            0"
      ]
     },
     "execution_count": 108,
     "metadata": {},
     "output_type": "execute_result"
    }
   ],
   "source": [
    "uk_vaccinations = pd.read_csv('covid_19_uk_vaccinated.csv')\n",
    "uk_vaccinations_six = uk_vaccinations.drop(['Province/State', 'Sub-region Name', 'Country/Region','Lat','Long','ISO 3166-1 Alpha 3-Codes', 'Intermediate Region Code', 'Date'], axis=1)\n",
    "uk_vaccinations_six.head()"
   ]
  },
  {
   "cell_type": "markdown",
   "id": "62b73024",
   "metadata": {},
   "source": [
    "### 3.2.1 Sort the data"
   ]
  },
  {
   "cell_type": "code",
   "execution_count": 109,
   "id": "31f61901",
   "metadata": {},
   "outputs": [],
   "source": [
    "# Sort the data from the excel files\n",
    "uk_covid_cases = pd.read_csv('covid_19_uk_cases.csv')\n",
    "uk_covid_cases=uk_covid_cases.sort_values(by='Date', ascending=True)\n",
    "\n",
    "uk_vaccinations = pd.read_csv('covid_19_uk_vaccinated.csv')\n",
    "uk_vaccinations = uk_vaccinations.sort_values(by='Date', ascending=True)"
   ]
  },
  {
   "cell_type": "markdown",
   "id": "ce7f61c4",
   "metadata": {},
   "source": [
    "### 3.2.2 Data Aggregation "
   ]
  },
  {
   "cell_type": "code",
   "execution_count": 110,
   "id": "fd43207f",
   "metadata": {},
   "outputs": [
    {
     "data": {
      "text/html": [
       "<div>\n",
       "<style scoped>\n",
       "    .dataframe tbody tr th:only-of-type {\n",
       "        vertical-align: middle;\n",
       "    }\n",
       "\n",
       "    .dataframe tbody tr th {\n",
       "        vertical-align: top;\n",
       "    }\n",
       "\n",
       "    .dataframe thead th {\n",
       "        text-align: right;\n",
       "    }\n",
       "</style>\n",
       "<table border=\"1\" class=\"dataframe\">\n",
       "  <thead>\n",
       "    <tr style=\"text-align: right;\">\n",
       "      <th></th>\n",
       "      <th>Deaths</th>\n",
       "      <th>Cases</th>\n",
       "      <th>Recovered</th>\n",
       "      <th>Hospitalised</th>\n",
       "    </tr>\n",
       "  </thead>\n",
       "  <tbody>\n",
       "    <tr>\n",
       "      <th>sum</th>\n",
       "      <td>47085754.0</td>\n",
       "      <td>NaN</td>\n",
       "      <td>3447469.0</td>\n",
       "      <td>5195403.0</td>\n",
       "    </tr>\n",
       "    <tr>\n",
       "      <th>min</th>\n",
       "      <td>0.0</td>\n",
       "      <td>0.0</td>\n",
       "      <td>0.0</td>\n",
       "      <td>0.0</td>\n",
       "    </tr>\n",
       "    <tr>\n",
       "      <th>max</th>\n",
       "      <td>NaN</td>\n",
       "      <td>8317439.0</td>\n",
       "      <td>NaN</td>\n",
       "      <td>NaN</td>\n",
       "    </tr>\n",
       "  </tbody>\n",
       "</table>\n",
       "</div>"
      ],
      "text/plain": [
       "         Deaths      Cases  Recovered  Hospitalised\n",
       "sum  47085754.0        NaN  3447469.0     5195403.0\n",
       "min         0.0        0.0        0.0           0.0\n",
       "max         NaN  8317439.0        NaN           NaN"
      ]
     },
     "execution_count": 110,
     "metadata": {},
     "output_type": "execute_result"
    }
   ],
   "source": [
    "# Aggregation for these columns\n",
    "uk_covid_cases_two.aggregate({\"Deaths\":['sum', 'min'],\n",
    "              \"Cases\":['max', 'min'],\n",
    "              \"Recovered\":['min', 'sum'], \n",
    "              \"Hospitalised\":['min', 'sum']})"
   ]
  },
  {
   "cell_type": "code",
   "execution_count": 111,
   "id": "ec7a7c8f",
   "metadata": {},
   "outputs": [
    {
     "data": {
      "text/html": [
       "<div>\n",
       "<style scoped>\n",
       "    .dataframe tbody tr th:only-of-type {\n",
       "        vertical-align: middle;\n",
       "    }\n",
       "\n",
       "    .dataframe tbody tr th {\n",
       "        vertical-align: top;\n",
       "    }\n",
       "\n",
       "    .dataframe thead th {\n",
       "        text-align: right;\n",
       "    }\n",
       "</style>\n",
       "<table border=\"1\" class=\"dataframe\">\n",
       "  <thead>\n",
       "    <tr style=\"text-align: right;\">\n",
       "      <th></th>\n",
       "      <th>Vaccinated</th>\n",
       "      <th>First Dose</th>\n",
       "      <th>Second Dose</th>\n",
       "    </tr>\n",
       "  </thead>\n",
       "  <tbody>\n",
       "    <tr>\n",
       "      <th>sum</th>\n",
       "      <td>44848345.0</td>\n",
       "      <td>NaN</td>\n",
       "      <td>44848345.0</td>\n",
       "    </tr>\n",
       "    <tr>\n",
       "      <th>min</th>\n",
       "      <td>0.0</td>\n",
       "      <td>0.0</td>\n",
       "      <td>0.0</td>\n",
       "    </tr>\n",
       "    <tr>\n",
       "      <th>max</th>\n",
       "      <td>NaN</td>\n",
       "      <td>94038.0</td>\n",
       "      <td>NaN</td>\n",
       "    </tr>\n",
       "  </tbody>\n",
       "</table>\n",
       "</div>"
      ],
      "text/plain": [
       "     Vaccinated  First Dose  Second Dose\n",
       "sum  44848345.0         NaN   44848345.0\n",
       "min         0.0         0.0          0.0\n",
       "max         NaN     94038.0          NaN"
      ]
     },
     "execution_count": 111,
     "metadata": {},
     "output_type": "execute_result"
    }
   ],
   "source": [
    "# Aggregation for these columns\n",
    "uk_vaccinations_two.aggregate({\"Vaccinated\":['sum', 'min'],\n",
    "              \"First Dose\":['max', 'min'],\n",
    "              \"Second Dose\":['min', 'sum']})"
   ]
  },
  {
   "cell_type": "code",
   "execution_count": 112,
   "id": "1d383d3e",
   "metadata": {},
   "outputs": [
    {
     "data": {
      "text/html": [
       "<div>\n",
       "<style scoped>\n",
       "    .dataframe tbody tr th:only-of-type {\n",
       "        vertical-align: middle;\n",
       "    }\n",
       "\n",
       "    .dataframe tbody tr th {\n",
       "        vertical-align: top;\n",
       "    }\n",
       "\n",
       "    .dataframe thead th {\n",
       "        text-align: right;\n",
       "    }\n",
       "</style>\n",
       "<table border=\"1\" class=\"dataframe\">\n",
       "  <thead>\n",
       "    <tr style=\"text-align: right;\">\n",
       "      <th></th>\n",
       "      <th>Deaths</th>\n",
       "    </tr>\n",
       "    <tr>\n",
       "      <th>Date</th>\n",
       "      <th></th>\n",
       "    </tr>\n",
       "  </thead>\n",
       "  <tbody>\n",
       "    <tr>\n",
       "      <th>2020-01-22</th>\n",
       "      <td>0.0</td>\n",
       "    </tr>\n",
       "    <tr>\n",
       "      <th>2020-01-23</th>\n",
       "      <td>0.0</td>\n",
       "    </tr>\n",
       "  </tbody>\n",
       "</table>\n",
       "</div>"
      ],
      "text/plain": [
       "            Deaths\n",
       "Date              \n",
       "2020-01-22     0.0\n",
       "2020-01-23     0.0"
      ]
     },
     "execution_count": 112,
     "metadata": {},
     "output_type": "execute_result"
    }
   ],
   "source": [
    "uk_covid_cases_aggregate=uk_covid_cases.groupby('Date')[['Deaths']].sum()\n",
    "uk_covid_cases_aggregate.head(2)"
   ]
  },
  {
   "cell_type": "code",
   "execution_count": 113,
   "id": "03830bd1",
   "metadata": {},
   "outputs": [
    {
     "data": {
      "text/html": [
       "<div>\n",
       "<style scoped>\n",
       "    .dataframe tbody tr th:only-of-type {\n",
       "        vertical-align: middle;\n",
       "    }\n",
       "\n",
       "    .dataframe tbody tr th {\n",
       "        vertical-align: top;\n",
       "    }\n",
       "\n",
       "    .dataframe thead th {\n",
       "        text-align: right;\n",
       "    }\n",
       "</style>\n",
       "<table border=\"1\" class=\"dataframe\">\n",
       "  <thead>\n",
       "    <tr style=\"text-align: right;\">\n",
       "      <th></th>\n",
       "      <th>Vaccinated</th>\n",
       "      <th>First Dose</th>\n",
       "      <th>Second Dose</th>\n",
       "    </tr>\n",
       "  </thead>\n",
       "  <tbody>\n",
       "    <tr>\n",
       "      <th>0</th>\n",
       "      <td>0</td>\n",
       "      <td>0</td>\n",
       "      <td>0</td>\n",
       "    </tr>\n",
       "    <tr>\n",
       "      <th>1</th>\n",
       "      <td>0</td>\n",
       "      <td>0</td>\n",
       "      <td>0</td>\n",
       "    </tr>\n",
       "    <tr>\n",
       "      <th>2</th>\n",
       "      <td>0</td>\n",
       "      <td>0</td>\n",
       "      <td>0</td>\n",
       "    </tr>\n",
       "    <tr>\n",
       "      <th>3</th>\n",
       "      <td>0</td>\n",
       "      <td>0</td>\n",
       "      <td>0</td>\n",
       "    </tr>\n",
       "    <tr>\n",
       "      <th>4</th>\n",
       "      <td>0</td>\n",
       "      <td>0</td>\n",
       "      <td>0</td>\n",
       "    </tr>\n",
       "  </tbody>\n",
       "</table>\n",
       "</div>"
      ],
      "text/plain": [
       "   Vaccinated  First Dose  Second Dose\n",
       "0           0           0            0\n",
       "1           0           0            0\n",
       "2           0           0            0\n",
       "3           0           0            0\n",
       "4           0           0            0"
      ]
     },
     "execution_count": 113,
     "metadata": {},
     "output_type": "execute_result"
    }
   ],
   "source": [
    "uk_vaccinations = pd.read_csv('covid_19_uk_vaccinated.csv')\n",
    "uk_vaccinations_six = uk_vaccinations.drop(['Province/State', 'Sub-region Name', 'Country/Region','Lat','Long','ISO 3166-1 Alpha 3-Codes', 'Intermediate Region Code', 'Date'], axis=1)\n",
    "uk_vaccinations_six.head()"
   ]
  },
  {
   "cell_type": "markdown",
   "id": "a720f3d6",
   "metadata": {},
   "source": [
    "# 3.3 Detect Outliers in the Data"
   ]
  },
  {
   "cell_type": "code",
   "execution_count": 115,
   "id": "9caba10d",
   "metadata": {},
   "outputs": [
    {
     "data": {
      "text/html": [
       "<div>\n",
       "<style scoped>\n",
       "    .dataframe tbody tr th:only-of-type {\n",
       "        vertical-align: middle;\n",
       "    }\n",
       "\n",
       "    .dataframe tbody tr th {\n",
       "        vertical-align: top;\n",
       "    }\n",
       "\n",
       "    .dataframe thead th {\n",
       "        text-align: right;\n",
       "    }\n",
       "</style>\n",
       "<table border=\"1\" class=\"dataframe\">\n",
       "  <thead>\n",
       "    <tr style=\"text-align: right;\">\n",
       "      <th></th>\n",
       "      <th>Vaccinated</th>\n",
       "      <th>First Dose</th>\n",
       "      <th>Second Dose</th>\n",
       "    </tr>\n",
       "  </thead>\n",
       "  <tbody>\n",
       "    <tr>\n",
       "      <th>Vaccinated</th>\n",
       "      <td>1.00000</td>\n",
       "      <td>0.33209</td>\n",
       "      <td>1.00000</td>\n",
       "    </tr>\n",
       "    <tr>\n",
       "      <th>First Dose</th>\n",
       "      <td>0.33209</td>\n",
       "      <td>1.00000</td>\n",
       "      <td>0.33209</td>\n",
       "    </tr>\n",
       "    <tr>\n",
       "      <th>Second Dose</th>\n",
       "      <td>1.00000</td>\n",
       "      <td>0.33209</td>\n",
       "      <td>1.00000</td>\n",
       "    </tr>\n",
       "  </tbody>\n",
       "</table>\n",
       "</div>"
      ],
      "text/plain": [
       "             Vaccinated  First Dose  Second Dose\n",
       "Vaccinated      1.00000     0.33209      1.00000\n",
       "First Dose      0.33209     1.00000      0.33209\n",
       "Second Dose     1.00000     0.33209      1.00000"
      ]
     },
     "execution_count": 115,
     "metadata": {},
     "output_type": "execute_result"
    }
   ],
   "source": [
    "#Check the correlation on vaccinations\n",
    "uk_vaccinations_two.corr(method = 'pearson')"
   ]
  },
  {
   "cell_type": "code",
   "execution_count": 116,
   "id": "48df2d67",
   "metadata": {},
   "outputs": [
    {
     "data": {
      "text/html": [
       "<div>\n",
       "<style scoped>\n",
       "    .dataframe tbody tr th:only-of-type {\n",
       "        vertical-align: middle;\n",
       "    }\n",
       "\n",
       "    .dataframe tbody tr th {\n",
       "        vertical-align: top;\n",
       "    }\n",
       "\n",
       "    .dataframe thead th {\n",
       "        text-align: right;\n",
       "    }\n",
       "</style>\n",
       "<table border=\"1\" class=\"dataframe\">\n",
       "  <thead>\n",
       "    <tr style=\"text-align: right;\">\n",
       "      <th></th>\n",
       "      <th>Deaths</th>\n",
       "      <th>Cases</th>\n",
       "      <th>Recovered</th>\n",
       "      <th>Hospitalised</th>\n",
       "    </tr>\n",
       "  </thead>\n",
       "  <tbody>\n",
       "    <tr>\n",
       "      <th>Deaths</th>\n",
       "      <td>1.000000</td>\n",
       "      <td>0.958578</td>\n",
       "      <td>-0.111331</td>\n",
       "      <td>-0.065250</td>\n",
       "    </tr>\n",
       "    <tr>\n",
       "      <th>Cases</th>\n",
       "      <td>0.958578</td>\n",
       "      <td>1.000000</td>\n",
       "      <td>-0.094530</td>\n",
       "      <td>-0.053331</td>\n",
       "    </tr>\n",
       "    <tr>\n",
       "      <th>Recovered</th>\n",
       "      <td>-0.111331</td>\n",
       "      <td>-0.094530</td>\n",
       "      <td>1.000000</td>\n",
       "      <td>0.019105</td>\n",
       "    </tr>\n",
       "    <tr>\n",
       "      <th>Hospitalised</th>\n",
       "      <td>-0.065250</td>\n",
       "      <td>-0.053331</td>\n",
       "      <td>0.019105</td>\n",
       "      <td>1.000000</td>\n",
       "    </tr>\n",
       "  </tbody>\n",
       "</table>\n",
       "</div>"
      ],
      "text/plain": [
       "                Deaths     Cases  Recovered  Hospitalised\n",
       "Deaths        1.000000  0.958578  -0.111331     -0.065250\n",
       "Cases         0.958578  1.000000  -0.094530     -0.053331\n",
       "Recovered    -0.111331 -0.094530   1.000000      0.019105\n",
       "Hospitalised -0.065250 -0.053331   0.019105      1.000000"
      ]
     },
     "execution_count": 116,
     "metadata": {},
     "output_type": "execute_result"
    }
   ],
   "source": [
    "#Check the correlation on cases\n",
    "uk_covid_cases_two.corr(method = 'pearson')"
   ]
  },
  {
   "cell_type": "code",
   "execution_count": 117,
   "id": "40503dc2",
   "metadata": {},
   "outputs": [
    {
     "data": {
      "text/plain": [
       "Text(0.5, 1.0, 'Correlation between first and second dose')"
      ]
     },
     "execution_count": 117,
     "metadata": {},
     "output_type": "execute_result"
    },
    {
     "data": {
      "text/plain": [
       "<Figure size 1080x288 with 0 Axes>"
      ]
     },
     "metadata": {},
     "output_type": "display_data"
    },
    {
     "data": {
      "image/png": "[encoded data removed]",
      "text/plain": [
       "<Figure size 427.875x360 with 1 Axes>"
      ]
     },
     "metadata": {
      "needs_background": "light"
     },
     "output_type": "display_data"
    }
   ],
   "source": [
    "# set figure size\n",
    "plt.figure(figsize=(15,4))\n",
    "\n",
    "#Plot a scatterplot with the replot() function to allow us to create subplots in a single figure\n",
    "sns.relplot(x='First Dose', y='Second Dose', data=uk_vaccinations_two, kind = 'scatter', hue='Vaccinated',)\n",
    "\n",
    "#Annotate chart for better comprehension\n",
    "plt.title(\"Correlation between first and second dose\")"
   ]
  },
  {
   "cell_type": "code",
   "execution_count": 118,
   "id": "353e9f8f",
   "metadata": {},
   "outputs": [
    {
     "data": {
      "text/html": [
       "<div>\n",
       "<style scoped>\n",
       "    .dataframe tbody tr th:only-of-type {\n",
       "        vertical-align: middle;\n",
       "    }\n",
       "\n",
       "    .dataframe tbody tr th {\n",
       "        vertical-align: top;\n",
       "    }\n",
       "\n",
       "    .dataframe thead th {\n",
       "        text-align: right;\n",
       "    }\n",
       "</style>\n",
       "<table border=\"1\" class=\"dataframe\">\n",
       "  <thead>\n",
       "    <tr style=\"text-align: right;\">\n",
       "      <th></th>\n",
       "      <th>Vaccinated</th>\n",
       "      <th>First Dose</th>\n",
       "      <th>Second Dose</th>\n",
       "    </tr>\n",
       "  </thead>\n",
       "  <tbody>\n",
       "    <tr>\n",
       "      <th>0</th>\n",
       "      <td>0</td>\n",
       "      <td>0</td>\n",
       "      <td>0</td>\n",
       "    </tr>\n",
       "    <tr>\n",
       "      <th>1</th>\n",
       "      <td>0</td>\n",
       "      <td>0</td>\n",
       "      <td>0</td>\n",
       "    </tr>\n",
       "    <tr>\n",
       "      <th>2</th>\n",
       "      <td>0</td>\n",
       "      <td>0</td>\n",
       "      <td>0</td>\n",
       "    </tr>\n",
       "    <tr>\n",
       "      <th>3</th>\n",
       "      <td>0</td>\n",
       "      <td>0</td>\n",
       "      <td>0</td>\n",
       "    </tr>\n",
       "    <tr>\n",
       "      <th>4</th>\n",
       "      <td>0</td>\n",
       "      <td>0</td>\n",
       "      <td>0</td>\n",
       "    </tr>\n",
       "  </tbody>\n",
       "</table>\n",
       "</div>"
      ],
      "text/plain": [
       "   Vaccinated  First Dose  Second Dose\n",
       "0           0           0            0\n",
       "1           0           0            0\n",
       "2           0           0            0\n",
       "3           0           0            0\n",
       "4           0           0            0"
      ]
     },
     "execution_count": 118,
     "metadata": {},
     "output_type": "execute_result"
    }
   ],
   "source": [
    "uk_vaccinations = pd.read_csv('covid_19_uk_vaccinated.csv')\n",
    "uk_vaccinations_six = uk_vaccinations.drop(['Province/State', 'Sub-region Name', 'Country/Region','Lat','Long','ISO 3166-1 Alpha 3-Codes', 'Intermediate Region Code', 'Date'], axis=1)\n",
    "uk_vaccinations_six.head()"
   ]
  },
  {
   "cell_type": "code",
   "execution_count": 119,
   "id": "b4d0008c",
   "metadata": {},
   "outputs": [
    {
     "data": {
      "text/plain": [
       "<function matplotlib.pyplot.show(close=None, block=None)>"
      ]
     },
     "execution_count": 119,
     "metadata": {},
     "output_type": "execute_result"
    },
    {
     "data": {
      "image/png": "[encoded data removed]",
      "text/plain": [
       "<Figure size 432x288 with 2 Axes>"
      ]
     },
     "metadata": {
      "needs_background": "light"
     },
     "output_type": "display_data"
    }
   ],
   "source": [
    "plt.pcolor(uk_vaccinations_six)\n",
    "plt.colorbar()\n",
    "plt.show"
   ]
  },
  {
   "cell_type": "code",
   "execution_count": 120,
   "id": "0ed4c199",
   "metadata": {},
   "outputs": [
    {
     "data": {
      "text/plain": [
       "<seaborn.axisgrid.PairGrid at 0x2d13542a0d0>"
      ]
     },
     "execution_count": 120,
     "metadata": {},
     "output_type": "execute_result"
    },
    {
     "data": {
      "text/plain": [
       "<Figure size 1080x288 with 0 Axes>"
      ]
     },
     "metadata": {},
     "output_type": "display_data"
    },
    {
     "data": {
      "image/png": "[encoded data removed]",
      "text/plain": [
       "<Figure size 720x720 with 20 Axes>"
      ]
     },
     "metadata": {
      "needs_background": "light"
     },
     "output_type": "display_data"
    }
   ],
   "source": [
    "# set figure size\n",
    "plt.figure(figsize=(15,4))\n",
    "\n",
    "#Checking for outliers in the dataset\n",
    "sns.pairplot(uk_covid_cases_two)"
   ]
  },
  {
   "cell_type": "code",
   "execution_count": 121,
   "id": "74f5f170",
   "metadata": {
    "scrolled": false
   },
   "outputs": [
    {
     "data": {
      "text/plain": [
       "<seaborn.axisgrid.PairGrid at 0x2d135447e20>"
      ]
     },
     "execution_count": 121,
     "metadata": {},
     "output_type": "execute_result"
    },
    {
     "data": {
      "text/plain": [
       "<Figure size 1080x288 with 0 Axes>"
      ]
     },
     "metadata": {},
     "output_type": "display_data"
    },
    {
     "data": {
      "image/png": "[encoded data removed]",
      "text/plain": [
       "<Figure size 540x540 with 12 Axes>"
      ]
     },
     "metadata": {
      "needs_background": "light"
     },
     "output_type": "display_data"
    }
   ],
   "source": [
    "# set figure size\n",
    "plt.figure(figsize=(15,4))\n",
    "\n",
    "#Checking for outliers in the dataset\n",
    "sns.pairplot(uk_vaccinations_two)"
   ]
  },
  {
   "cell_type": "markdown",
   "id": "2b5b39d2",
   "metadata": {},
   "source": [
    "# 7. Exploratory Analysis and Visualization"
   ]
  },
  {
   "cell_type": "markdown",
   "id": "caad608a",
   "metadata": {},
   "source": [
    "## 7.1 What are the total vaccinations for a region?"
   ]
  },
  {
   "cell_type": "markdown",
   "id": "9fcd502c",
   "metadata": {},
   "source": [
    "### Overall Business Insight: Highest vaccination is Latin America and the Carribean lowest is North America"
   ]
  },
  {
   "cell_type": "code",
   "execution_count": 122,
   "id": "242b71ea",
   "metadata": {},
   "outputs": [
    {
     "data": {
      "text/plain": [
       "Text(0.5, 1.0, 'Total Vaccination Per Region')"
      ]
     },
     "execution_count": 122,
     "metadata": {},
     "output_type": "execute_result"
    },
    {
     "data": {
      "image/png": "[encoded data removed]",
      "text/plain": [
       "<Figure size 1080x288 with 1 Axes>"
      ]
     },
     "metadata": {
      "needs_background": "light"
     },
     "output_type": "display_data"
    }
   ],
   "source": [
    "# set figure size\n",
    "plt.figure(figsize=(15,4))\n",
    "\n",
    "#Show the total number of vacinnation per region\n",
    "plots = sns.barplot(x='Sub-region Name', y='Vaccinated', estimator=sum, data=uk_vaccinations,)\n",
    "\n",
    "# Iterrating over the bars one-by-one\n",
    "# Using Matplotlib's annotate function and\n",
    "for bar in plots.patches:\n",
    "    plots.annotate(format(bar.get_height(), '.2f'),\n",
    "                   (bar.get_x() + bar.get_width() / 1,\n",
    "                    bar.get_height()), ha='center', va='center',\n",
    "                   size=10, xytext=(0, 2),\n",
    "                   textcoords='offset points')\n",
    "    \n",
    "#Annotate chart for better comprehension\n",
    "plt.title(\"Total Vaccination Per Region\")"
   ]
  },
  {
   "cell_type": "code",
   "execution_count": 123,
   "id": "f65db7c8",
   "metadata": {},
   "outputs": [
    {
     "data": {
      "text/plain": [
       "Text(0.5, 1.0, 'Total Vaccination Per Region')"
      ]
     },
     "execution_count": 123,
     "metadata": {},
     "output_type": "execute_result"
    },
    {
     "data": {
      "text/plain": [
       "<Figure size 1080x288 with 0 Axes>"
      ]
     },
     "metadata": {},
     "output_type": "display_data"
    },
    {
     "data": {
      "image/png": "[encoded data removed]",
      "text/plain": [
       "<Figure size 432x288 with 1 Axes>"
      ]
     },
     "metadata": {
      "needs_background": "light"
     },
     "output_type": "display_data"
    }
   ],
   "source": [
    "# set figure size\n",
    "plt.figure(figsize=(15,4))\n",
    "\n",
    "#Overview of vaccination with first dose and second dose\n",
    "uk_vaccinations_two.groupby(\"Sub-region Name\").sum().plot(kind=\"bar\");\n",
    "\n",
    "#Annotate chart for better comprehension\n",
    "plt.title(\"Total Vaccination Per Region\")"
   ]
  },
  {
   "cell_type": "markdown",
   "id": "3957e8b3",
   "metadata": {},
   "source": [
    "## 7.2  Where should they target their first marketing campaign?"
   ]
  },
  {
   "cell_type": "markdown",
   "id": "21140c76",
   "metadata": {},
   "source": [
    "### Overall Business Insight: Focus on areas with highest amount of cases, highest colerration with death. Therefore marketing campaign should be on Northern Europe."
   ]
  },
  {
   "cell_type": "code",
   "execution_count": 124,
   "id": "4eb5820f",
   "metadata": {},
   "outputs": [],
   "source": [
    "#Import the libraries\n",
    "import pandas as pd\n",
    "import numpy as np\n",
    "import matplotlib.pyplot as plt\n",
    "import seaborn as sns"
   ]
  },
  {
   "cell_type": "code",
   "execution_count": 125,
   "id": "02c466db",
   "metadata": {},
   "outputs": [
    {
     "data": {
      "text/html": [
       "<div>\n",
       "<style scoped>\n",
       "    .dataframe tbody tr th:only-of-type {\n",
       "        vertical-align: middle;\n",
       "    }\n",
       "\n",
       "    .dataframe tbody tr th {\n",
       "        vertical-align: top;\n",
       "    }\n",
       "\n",
       "    .dataframe thead th {\n",
       "        text-align: right;\n",
       "    }\n",
       "</style>\n",
       "<table border=\"1\" class=\"dataframe\">\n",
       "  <thead>\n",
       "    <tr style=\"text-align: right;\">\n",
       "      <th></th>\n",
       "      <th>Province/State</th>\n",
       "      <th>Country/Region</th>\n",
       "      <th>ISO 3166-1 Alpha 3-Codes</th>\n",
       "      <th>Sub-region Name</th>\n",
       "      <th>Intermediate Region Code</th>\n",
       "      <th>Date</th>\n",
       "      <th>Deaths</th>\n",
       "      <th>Cases</th>\n",
       "      <th>Recovered</th>\n",
       "      <th>Hospitalised</th>\n",
       "      <th>Vaccinated</th>\n",
       "      <th>First Dose</th>\n",
       "      <th>Second Dose</th>\n",
       "    </tr>\n",
       "  </thead>\n",
       "  <tbody>\n",
       "    <tr>\n",
       "      <th>0</th>\n",
       "      <td>Anguilla</td>\n",
       "      <td>United Kingdom</td>\n",
       "      <td>AIA</td>\n",
       "      <td>Latin America and the Caribbean</td>\n",
       "      <td>29</td>\n",
       "      <td>2020-01-22</td>\n",
       "      <td>0.0</td>\n",
       "      <td>0.0</td>\n",
       "      <td>0.0</td>\n",
       "      <td>0.0</td>\n",
       "      <td>0.0</td>\n",
       "      <td>0.0</td>\n",
       "      <td>0.0</td>\n",
       "    </tr>\n",
       "    <tr>\n",
       "      <th>1264</th>\n",
       "      <td>British Virgin Islands</td>\n",
       "      <td>United Kingdom</td>\n",
       "      <td>VGB</td>\n",
       "      <td>Latin America and the Caribbean</td>\n",
       "      <td>29</td>\n",
       "      <td>2020-01-22</td>\n",
       "      <td>0.0</td>\n",
       "      <td>0.0</td>\n",
       "      <td>0.0</td>\n",
       "      <td>0.0</td>\n",
       "      <td>0.0</td>\n",
       "      <td>0.0</td>\n",
       "      <td>0.0</td>\n",
       "    </tr>\n",
       "  </tbody>\n",
       "</table>\n",
       "</div>"
      ],
      "text/plain": [
       "              Province/State  Country/Region ISO 3166-1 Alpha 3-Codes  \\\n",
       "0                   Anguilla  United Kingdom                      AIA   \n",
       "1264  British Virgin Islands  United Kingdom                      VGB   \n",
       "\n",
       "                      Sub-region Name  Intermediate Region Code        Date  \\\n",
       "0     Latin America and the Caribbean                        29  2020-01-22   \n",
       "1264  Latin America and the Caribbean                        29  2020-01-22   \n",
       "\n",
       "      Deaths  Cases  Recovered  Hospitalised  Vaccinated  First Dose  \\\n",
       "0        0.0    0.0        0.0           0.0         0.0         0.0   \n",
       "1264     0.0    0.0        0.0           0.0         0.0         0.0   \n",
       "\n",
       "      Second Dose  \n",
       "0             0.0  \n",
       "1264          0.0  "
      ]
     },
     "execution_count": 125,
     "metadata": {},
     "output_type": "execute_result"
    }
   ],
   "source": [
    "#For this analysis I have merged the uk cases and uk vaccinated data set\n",
    "cases_vaccinated = pd.concat([uk_covid_cases,uk_vaccinations])\n",
    "cases_vaccinated.fillna(0)\n",
    "cases_vaccinated =cases_vaccinated.replace(np.nan, 0)\n",
    "cases_vaccinated.head(2)\n",
    "del cases_vaccinated['Lat']\n",
    "del cases_vaccinated['Long']\n",
    "cases_vaccinated.head(2)"
   ]
  },
  {
   "cell_type": "code",
   "execution_count": 126,
   "id": "ea4d79e4",
   "metadata": {},
   "outputs": [
    {
     "data": {
      "text/html": [
       "<div>\n",
       "<style scoped>\n",
       "    .dataframe tbody tr th:only-of-type {\n",
       "        vertical-align: middle;\n",
       "    }\n",
       "\n",
       "    .dataframe tbody tr th {\n",
       "        vertical-align: top;\n",
       "    }\n",
       "\n",
       "    .dataframe thead th {\n",
       "        text-align: right;\n",
       "    }\n",
       "</style>\n",
       "<table border=\"1\" class=\"dataframe\">\n",
       "  <thead>\n",
       "    <tr style=\"text-align: right;\">\n",
       "      <th></th>\n",
       "      <th>Province/State</th>\n",
       "      <th>Country/Region</th>\n",
       "      <th>ISO 3166-1 Alpha 3-Codes</th>\n",
       "      <th>Sub-region Name</th>\n",
       "      <th>Intermediate Region Code</th>\n",
       "      <th>Date</th>\n",
       "      <th>Deaths</th>\n",
       "      <th>Cases</th>\n",
       "      <th>Recovered</th>\n",
       "      <th>Hospitalised</th>\n",
       "      <th>Vaccinated</th>\n",
       "      <th>First Dose</th>\n",
       "      <th>Second Dose</th>\n",
       "    </tr>\n",
       "  </thead>\n",
       "  <tbody>\n",
       "    <tr>\n",
       "      <th>0</th>\n",
       "      <td>Anguilla</td>\n",
       "      <td>United Kingdom</td>\n",
       "      <td>AIA</td>\n",
       "      <td>Latin America and the Caribbean</td>\n",
       "      <td>29</td>\n",
       "      <td>2020-01-22</td>\n",
       "      <td>0.0</td>\n",
       "      <td>0.0</td>\n",
       "      <td>0.0</td>\n",
       "      <td>0.0</td>\n",
       "      <td>0.0</td>\n",
       "      <td>0.0</td>\n",
       "      <td>0.0</td>\n",
       "    </tr>\n",
       "    <tr>\n",
       "      <th>1264</th>\n",
       "      <td>British Virgin Islands</td>\n",
       "      <td>United Kingdom</td>\n",
       "      <td>VGB</td>\n",
       "      <td>Latin America and the Caribbean</td>\n",
       "      <td>29</td>\n",
       "      <td>2020-01-22</td>\n",
       "      <td>0.0</td>\n",
       "      <td>0.0</td>\n",
       "      <td>0.0</td>\n",
       "      <td>0.0</td>\n",
       "      <td>0.0</td>\n",
       "      <td>0.0</td>\n",
       "      <td>0.0</td>\n",
       "    </tr>\n",
       "  </tbody>\n",
       "</table>\n",
       "</div>"
      ],
      "text/plain": [
       "              Province/State  Country/Region ISO 3166-1 Alpha 3-Codes  \\\n",
       "0                   Anguilla  United Kingdom                      AIA   \n",
       "1264  British Virgin Islands  United Kingdom                      VGB   \n",
       "\n",
       "                      Sub-region Name  Intermediate Region Code        Date  \\\n",
       "0     Latin America and the Caribbean                        29  2020-01-22   \n",
       "1264  Latin America and the Caribbean                        29  2020-01-22   \n",
       "\n",
       "      Deaths  Cases  Recovered  Hospitalised  Vaccinated  First Dose  \\\n",
       "0        0.0    0.0        0.0           0.0         0.0         0.0   \n",
       "1264     0.0    0.0        0.0           0.0         0.0         0.0   \n",
       "\n",
       "      Second Dose  \n",
       "0             0.0  \n",
       "1264          0.0  "
      ]
     },
     "execution_count": 126,
     "metadata": {},
     "output_type": "execute_result"
    }
   ],
   "source": [
    "#Summary of the dataset\n",
    "cases_vaccinated.head(2)"
   ]
  },
  {
   "cell_type": "code",
   "execution_count": 127,
   "id": "afc7d87d",
   "metadata": {},
   "outputs": [],
   "source": [
    "#Setting the value for x and y\n",
    "x = cases_vaccinated[[\"Cases\"]]\n",
    "y = cases_vaccinated[[\"Deaths\"]]"
   ]
  },
  {
   "cell_type": "code",
   "execution_count": 128,
   "id": "05c087ee",
   "metadata": {},
   "outputs": [],
   "source": [
    "#Import train test Split\n",
    "from sklearn.model_selection import train_test_split"
   ]
  },
  {
   "cell_type": "code",
   "execution_count": 129,
   "id": "6cf4ef3c",
   "metadata": {},
   "outputs": [],
   "source": [
    "#Split the dataset\n",
    "x_train, x_test, y_train, y_test = train_test_split(x, y, test_size = 0.2, random_state = 42)"
   ]
  },
  {
   "cell_type": "code",
   "execution_count": 130,
   "id": "c5f729f1",
   "metadata": {},
   "outputs": [],
   "source": [
    "# importing module\n",
    "from sklearn.linear_model import LinearRegression"
   ]
  },
  {
   "cell_type": "code",
   "execution_count": 131,
   "id": "790e2fcc",
   "metadata": {},
   "outputs": [
    {
     "data": {
      "text/plain": [
       "LinearRegression()"
      ]
     },
     "execution_count": 131,
     "metadata": {},
     "output_type": "execute_result"
    }
   ],
   "source": [
    "# creating an object of LinearRegression class\n",
    "LR = LinearRegression()\n",
    "# fitting the training data\n",
    "LR.fit(x_train,y_train)"
   ]
  },
  {
   "cell_type": "code",
   "execution_count": 132,
   "id": "f2290bca",
   "metadata": {},
   "outputs": [
    {
     "data": {
      "text/plain": [
       "array([[628.53665629],\n",
       "       [527.19516896],\n",
       "       [527.00565706],\n",
       "       ...,\n",
       "       [527.00565706],\n",
       "       [584.56989601],\n",
       "       [527.00565706]])"
      ]
     },
     "execution_count": 132,
     "metadata": {},
     "output_type": "execute_result"
    }
   ],
   "source": [
    "y_prediction =  LR.predict(x_test)\n",
    "y_prediction"
   ]
  },
  {
   "cell_type": "code",
   "execution_count": 133,
   "id": "74b38c15",
   "metadata": {},
   "outputs": [
    {
     "name": "stdout",
     "output_type": "stream",
     "text": [
      "r2 score is 0.9141801311493355\n",
      "mean_sqrd_error is== 28307477.452625785\n",
      "root_mean_squared error of is== 5320.4771827934555\n"
     ]
    }
   ],
   "source": [
    "# importing r2_score module\n",
    "from sklearn.metrics import r2_score\n",
    "from sklearn.metrics import mean_squared_error\n",
    "\n",
    "# predicting the accuracy score\n",
    "score=r2_score(y_test,y_prediction)\n",
    "print('r2 score is', score)\n",
    "print('mean_sqrd_error is==',mean_squared_error(y_test,y_prediction))\n",
    "print('root_mean_squared error of is==',np.sqrt(mean_squared_error(y_test,y_prediction)))"
   ]
  },
  {
   "cell_type": "code",
   "execution_count": 134,
   "id": "917dd0de",
   "metadata": {},
   "outputs": [
    {
     "data": {
      "text/plain": [
       "Text(0.5, 1.0, 'Total Average Cases Per Region')"
      ]
     },
     "execution_count": 134,
     "metadata": {},
     "output_type": "execute_result"
    },
    {
     "data": {
      "image/png": "[encoded data removed]",
      "text/plain": [
       "<Figure size 1080x288 with 1 Axes>"
      ]
     },
     "metadata": {
      "needs_background": "light"
     },
     "output_type": "display_data"
    }
   ],
   "source": [
    "# set figure size\n",
    "plt.figure(figsize=(15,4))\n",
    "\n",
    "#Create the environment for a new dataset\n",
    "uk_covid_cases_drop = pd.read_csv('covid_19_uk_cases.csv', index_col =\"Province/State\" )\n",
    "\n",
    "#Drop the colum others that is distorting the data without adding much value\n",
    "uk_covid_cases_drop.drop([\"Others\"], inplace = True)\n",
    "\n",
    "plots = sns.barplot(x='Sub-region Name', y='Cases', data=uk_covid_cases)\n",
    "\n",
    "# Iterrating over the bars one-by-one\n",
    "# Using Matplotlib's annotate function\n",
    "for bar in plots.patches:\n",
    "    plots.annotate(format(bar.get_height(), '.2f'),\n",
    "                   (bar.get_x() + bar.get_width() / 4,\n",
    "                    bar.get_height()), ha='center', va='center',\n",
    "                   size=8, xytext=(0, 5),\n",
    "                   textcoords='offset points')\n",
    "    \n",
    "    #Annotate chart for better comprehension\n",
    "plt.title(\"Total Average Cases Per Region\")"
   ]
  },
  {
   "cell_type": "markdown",
   "id": "acf81de9",
   "metadata": {},
   "source": [
    "# 7.3 Which area has the greatest number of recoveries that they do not have focus in these areas for their campaign?"
   ]
  },
  {
   "cell_type": "markdown",
   "id": "ca382f1b",
   "metadata": {},
   "source": [
    "### Overall Business Insight: Highest number of Recoveries is coming from Northern Europe"
   ]
  },
  {
   "cell_type": "code",
   "execution_count": 135,
   "id": "31d7bf53",
   "metadata": {
    "scrolled": true
   },
   "outputs": [
    {
     "data": {
      "text/plain": [
       "Text(0.5, 1.0, 'Total Number of Recoveries Per Region')"
      ]
     },
     "execution_count": 135,
     "metadata": {},
     "output_type": "execute_result"
    },
    {
     "data": {
      "image/png": "[encoded data removed]",
      "text/plain": [
       "<Figure size 1080x288 with 1 Axes>"
      ]
     },
     "metadata": {
      "needs_background": "light"
     },
     "output_type": "display_data"
    }
   ],
   "source": [
    "# set figure size\n",
    "plt.figure(figsize=(15,4))\n",
    "\n",
    "sns.barplot(x='Sub-region Name', y='Recovered', estimator=sum, data=uk_covid_cases)\n",
    "\n",
    "# Iterrating over the bars one-by-one\n",
    "# Using Matplotlib's annotate function\n",
    "for bar in plots.patches:\n",
    "    plots.annotate(format(bar.get_height(), '.2f'),\n",
    "                   (bar.get_x() + bar.get_width() / 4,\n",
    "                    bar.get_height()), ha='center', va='center',\n",
    "                   size=8, xytext=(0, 15),\n",
    "                   textcoords='offset points')\n",
    "\n",
    "#Annotate chart for better comprehension\n",
    "plt.title(\"Total Number of Recoveries Per Region\")"
   ]
  },
  {
   "cell_type": "code",
   "execution_count": 136,
   "id": "526a51c9",
   "metadata": {},
   "outputs": [
    {
     "data": {
      "text/plain": [
       "<AxesSubplot:xlabel='Date', ylabel='Recovered'>"
      ]
     },
     "execution_count": 136,
     "metadata": {},
     "output_type": "execute_result"
    },
    {
     "data": {
      "image/png": "[encoded data removed]",
      "text/plain": [
       "<Figure size 1080x288 with 1 Axes>"
      ]
     },
     "metadata": {
      "needs_background": "light"
     },
     "output_type": "display_data"
    }
   ],
   "source": [
    "# set figure size\n",
    "plt.figure(figsize=(15,4))\n",
    "\n",
    "sns.lineplot(x=\"Date\", y=\"Recovered\", hue=\"Province/State\", data=uk_covid_cases)"
   ]
  },
  {
   "cell_type": "markdown",
   "id": "e0397d3c",
   "metadata": {},
   "source": [
    "# 7.4 What is the time series trend of death across all regions? Has the peak been passed or not?"
   ]
  },
  {
   "cell_type": "markdown",
   "id": "91dfe87b",
   "metadata": {},
   "source": [
    "### Overall Business Insight: Deaths are increasing over time and the peak is not complete"
   ]
  },
  {
   "cell_type": "code",
   "execution_count": 137,
   "id": "71be3951",
   "metadata": {
    "scrolled": false
   },
   "outputs": [
    {
     "data": {
      "text/html": [
       "<div>\n",
       "<style scoped>\n",
       "    .dataframe tbody tr th:only-of-type {\n",
       "        vertical-align: middle;\n",
       "    }\n",
       "\n",
       "    .dataframe tbody tr th {\n",
       "        vertical-align: top;\n",
       "    }\n",
       "\n",
       "    .dataframe thead th {\n",
       "        text-align: right;\n",
       "    }\n",
       "</style>\n",
       "<table border=\"1\" class=\"dataframe\">\n",
       "  <thead>\n",
       "    <tr style=\"text-align: right;\">\n",
       "      <th></th>\n",
       "      <th>Sub-region Name</th>\n",
       "      <th>Deaths</th>\n",
       "      <th>Cases</th>\n",
       "      <th>Recovered</th>\n",
       "      <th>Hospitalised</th>\n",
       "    </tr>\n",
       "    <tr>\n",
       "      <th>Date</th>\n",
       "      <th></th>\n",
       "      <th></th>\n",
       "      <th></th>\n",
       "      <th></th>\n",
       "      <th></th>\n",
       "    </tr>\n",
       "  </thead>\n",
       "  <tbody>\n",
       "    <tr>\n",
       "      <th>2020-01-22</th>\n",
       "      <td>Latin America and the Caribbean</td>\n",
       "      <td>0.0</td>\n",
       "      <td>0.0</td>\n",
       "      <td>0.0</td>\n",
       "      <td>0.0</td>\n",
       "    </tr>\n",
       "    <tr>\n",
       "      <th>2020-01-22</th>\n",
       "      <td>Latin America and the Caribbean</td>\n",
       "      <td>0.0</td>\n",
       "      <td>0.0</td>\n",
       "      <td>0.0</td>\n",
       "      <td>0.0</td>\n",
       "    </tr>\n",
       "    <tr>\n",
       "      <th>2020-01-22</th>\n",
       "      <td>Latin America and the Caribbean</td>\n",
       "      <td>0.0</td>\n",
       "      <td>0.0</td>\n",
       "      <td>0.0</td>\n",
       "      <td>0.0</td>\n",
       "    </tr>\n",
       "    <tr>\n",
       "      <th>2020-01-22</th>\n",
       "      <td>Northern Europe</td>\n",
       "      <td>0.0</td>\n",
       "      <td>0.0</td>\n",
       "      <td>0.0</td>\n",
       "      <td>0.0</td>\n",
       "    </tr>\n",
       "    <tr>\n",
       "      <th>2020-01-22</th>\n",
       "      <td>Northern Europe</td>\n",
       "      <td>0.0</td>\n",
       "      <td>0.0</td>\n",
       "      <td>0.0</td>\n",
       "      <td>0.0</td>\n",
       "    </tr>\n",
       "  </tbody>\n",
       "</table>\n",
       "</div>"
      ],
      "text/plain": [
       "                            Sub-region Name  Deaths  Cases  Recovered  \\\n",
       "Date                                                                    \n",
       "2020-01-22  Latin America and the Caribbean     0.0    0.0        0.0   \n",
       "2020-01-22  Latin America and the Caribbean     0.0    0.0        0.0   \n",
       "2020-01-22  Latin America and the Caribbean     0.0    0.0        0.0   \n",
       "2020-01-22                  Northern Europe     0.0    0.0        0.0   \n",
       "2020-01-22                  Northern Europe     0.0    0.0        0.0   \n",
       "\n",
       "            Hospitalised  \n",
       "Date                      \n",
       "2020-01-22           0.0  \n",
       "2020-01-22           0.0  \n",
       "2020-01-22           0.0  \n",
       "2020-01-22           0.0  \n",
       "2020-01-22           0.0  "
      ]
     },
     "execution_count": 137,
     "metadata": {},
     "output_type": "execute_result"
    }
   ],
   "source": [
    "#Create a new data set focusing on vaccination, first dose and second dose\n",
    "uk_covid_cases_three = pd.read_csv('covid_19_uk_cases.csv',index_col='Date')\n",
    "uk_covid_cases_three = uk_covid_cases_three.drop(['Province/State','Lat','Long','ISO 3166-1 Alpha 3-Codes', 'Intermediate Region Code', 'Country/Region'], axis=1)\n",
    "uk_covid_cases_three=uk_covid_cases_three.sort_values(by='Date', ascending=True)\n",
    "uk_covid_cases_three.head()"
   ]
  },
  {
   "cell_type": "code",
   "execution_count": 138,
   "id": "b56d1975",
   "metadata": {},
   "outputs": [
    {
     "data": {
      "text/html": [
       "<div>\n",
       "<style scoped>\n",
       "    .dataframe tbody tr th:only-of-type {\n",
       "        vertical-align: middle;\n",
       "    }\n",
       "\n",
       "    .dataframe tbody tr th {\n",
       "        vertical-align: top;\n",
       "    }\n",
       "\n",
       "    .dataframe thead th {\n",
       "        text-align: right;\n",
       "    }\n",
       "</style>\n",
       "<table border=\"1\" class=\"dataframe\">\n",
       "  <thead>\n",
       "    <tr style=\"text-align: right;\">\n",
       "      <th></th>\n",
       "      <th>Date</th>\n",
       "      <th>Deaths</th>\n",
       "      <th>Cases</th>\n",
       "      <th>Recovered</th>\n",
       "      <th>Hospitalised</th>\n",
       "    </tr>\n",
       "  </thead>\n",
       "  <tbody>\n",
       "    <tr>\n",
       "      <th>0</th>\n",
       "      <td>2020-01-22</td>\n",
       "      <td>0.0</td>\n",
       "      <td>0.0</td>\n",
       "      <td>0.0</td>\n",
       "      <td>0.0</td>\n",
       "    </tr>\n",
       "    <tr>\n",
       "      <th>632</th>\n",
       "      <td>2020-01-22</td>\n",
       "      <td>0.0</td>\n",
       "      <td>0.0</td>\n",
       "      <td>0.0</td>\n",
       "      <td>0.0</td>\n",
       "    </tr>\n",
       "    <tr>\n",
       "      <th>5688</th>\n",
       "      <td>2020-01-22</td>\n",
       "      <td>0.0</td>\n",
       "      <td>0.0</td>\n",
       "      <td>0.0</td>\n",
       "      <td>0.0</td>\n",
       "    </tr>\n",
       "    <tr>\n",
       "      <th>5056</th>\n",
       "      <td>2020-01-22</td>\n",
       "      <td>0.0</td>\n",
       "      <td>0.0</td>\n",
       "      <td>0.0</td>\n",
       "      <td>0.0</td>\n",
       "    </tr>\n",
       "    <tr>\n",
       "      <th>6320</th>\n",
       "      <td>2020-01-22</td>\n",
       "      <td>0.0</td>\n",
       "      <td>0.0</td>\n",
       "      <td>0.0</td>\n",
       "      <td>0.0</td>\n",
       "    </tr>\n",
       "  </tbody>\n",
       "</table>\n",
       "</div>"
      ],
      "text/plain": [
       "            Date  Deaths  Cases  Recovered  Hospitalised\n",
       "0     2020-01-22     0.0    0.0        0.0           0.0\n",
       "632   2020-01-22     0.0    0.0        0.0           0.0\n",
       "5688  2020-01-22     0.0    0.0        0.0           0.0\n",
       "5056  2020-01-22     0.0    0.0        0.0           0.0\n",
       "6320  2020-01-22     0.0    0.0        0.0           0.0"
      ]
     },
     "execution_count": 138,
     "metadata": {},
     "output_type": "execute_result"
    }
   ],
   "source": [
    "#Attempting to convert the date column to seperate cells to be able to group by month \n",
    "#For further investigation\n",
    "uk_covid_cases_seven = uk_covid_cases.drop(['Province/State', 'Country/Region', 'Lat', 'Long','ISO 3166-1 Alpha 3-Codes', 'Sub-region Name', 'Intermediate Region Code'], axis=1)\n",
    "uk_covid_cases_seven= uk_covid_cases_seven.sort_values(by='Date', ascending=True)\n",
    "uk_covid_cases_seven.head()"
   ]
  },
  {
   "cell_type": "code",
   "execution_count": null,
   "id": "fdb80df7",
   "metadata": {},
   "outputs": [],
   "source": [
    "# set figure size\n",
    "plt.figure(figsize=(15,4))\n",
    "\n",
    "sns.barplot(x='Sub-region Name', y='Deaths', data=uk_covid_cases)"
   ]
  },
  {
   "cell_type": "markdown",
   "id": "8281f1a7",
   "metadata": {},
   "source": [
    "\n",
    "# 7.5 Which area has the largest number of people who have received a first dose but no second does?"
   ]
  },
  {
   "cell_type": "markdown",
   "id": "f1f8e118",
   "metadata": {},
   "source": [
    "### Overall Business Insight: Latin America is the largest area that has  recieved a first dose but no second dose with a difference of  1,164,930."
   ]
  },
  {
   "cell_type": "code",
   "execution_count": 66,
   "id": "96b9e3d6",
   "metadata": {},
   "outputs": [
    {
     "data": {
      "text/html": [
       "<div>\n",
       "<style scoped>\n",
       "    .dataframe tbody tr th:only-of-type {\n",
       "        vertical-align: middle;\n",
       "    }\n",
       "\n",
       "    .dataframe tbody tr th {\n",
       "        vertical-align: top;\n",
       "    }\n",
       "\n",
       "    .dataframe thead th {\n",
       "        text-align: right;\n",
       "    }\n",
       "</style>\n",
       "<table border=\"1\" class=\"dataframe\">\n",
       "  <thead>\n",
       "    <tr style=\"text-align: right;\">\n",
       "      <th></th>\n",
       "      <th>Sub-region Name</th>\n",
       "      <th>First Dose</th>\n",
       "      <th>Second Dose</th>\n",
       "    </tr>\n",
       "  </thead>\n",
       "  <tbody>\n",
       "    <tr>\n",
       "      <th>0</th>\n",
       "      <td>Latin America and the Caribbean</td>\n",
       "      <td>0</td>\n",
       "      <td>0</td>\n",
       "    </tr>\n",
       "    <tr>\n",
       "      <th>1</th>\n",
       "      <td>Latin America and the Caribbean</td>\n",
       "      <td>0</td>\n",
       "      <td>0</td>\n",
       "    </tr>\n",
       "    <tr>\n",
       "      <th>2</th>\n",
       "      <td>Latin America and the Caribbean</td>\n",
       "      <td>0</td>\n",
       "      <td>0</td>\n",
       "    </tr>\n",
       "    <tr>\n",
       "      <th>3</th>\n",
       "      <td>Latin America and the Caribbean</td>\n",
       "      <td>0</td>\n",
       "      <td>0</td>\n",
       "    </tr>\n",
       "    <tr>\n",
       "      <th>4</th>\n",
       "      <td>Latin America and the Caribbean</td>\n",
       "      <td>0</td>\n",
       "      <td>0</td>\n",
       "    </tr>\n",
       "  </tbody>\n",
       "</table>\n",
       "</div>"
      ],
      "text/plain": [
       "                   Sub-region Name  First Dose  Second Dose\n",
       "0  Latin America and the Caribbean           0            0\n",
       "1  Latin America and the Caribbean           0            0\n",
       "2  Latin America and the Caribbean           0            0\n",
       "3  Latin America and the Caribbean           0            0\n",
       "4  Latin America and the Caribbean           0            0"
      ]
     },
     "execution_count": 66,
     "metadata": {},
     "output_type": "execute_result"
    }
   ],
   "source": [
    "#To create a new data set focusing on vaccination, first dose and second dose\n",
    "uk_vaccinations_four = uk_vaccinations_two.drop(['Vaccinated'], axis=1)\n",
    "uk_vaccinations_four.head()"
   ]
  },
  {
   "cell_type": "code",
   "execution_count": 67,
   "id": "477c78b6",
   "metadata": {},
   "outputs": [
    {
     "data": {
      "text/plain": [
       "Text(0.5, 1.0, 'Regional Covid Vaccination')"
      ]
     },
     "execution_count": 67,
     "metadata": {},
     "output_type": "execute_result"
    },
    {
     "data": {
      "text/plain": [
       "<Figure size 1080x288 with 0 Axes>"
      ]
     },
     "metadata": {},
     "output_type": "display_data"
    },
    {
     "data": {
      "image/png": "[encoded data removed]",
      "text/plain": [
       "<Figure size 432x288 with 1 Axes>"
      ]
     },
     "metadata": {
      "needs_background": "light"
     },
     "output_type": "display_data"
    }
   ],
   "source": [
    "# set figure size\n",
    "plt.figure(figsize=(15,4))\n",
    "\n",
    "#Overview of vaccination with first dose and second dose\n",
    "uk_vaccinations_four.groupby(\"Sub-region Name\").count().plot(kind=\"bar\");\n",
    "\n",
    "    #Annotate chart for better comprehension\n",
    "plt.title(\"Regional Covid Vaccination\")"
   ]
  },
  {
   "cell_type": "markdown",
   "id": "b91941d3",
   "metadata": {},
   "source": [
    "# 7.6 Which regions have experienced peak in hospitalization numbers and if which regions have not peaked yet?"
   ]
  },
  {
   "cell_type": "markdown",
   "id": "bc7f645d",
   "metadata": {},
   "source": [
    "### Overall Business Insight: Two peaks (waves) have passed, the third was one was far less than the second."
   ]
  },
  {
   "cell_type": "code",
   "execution_count": 68,
   "id": "0ef1b8d0",
   "metadata": {
    "scrolled": true
   },
   "outputs": [
    {
     "data": {
      "text/plain": [
       "Text(0.5, 1.0, 'Time series of Hospitalisation over time')"
      ]
     },
     "execution_count": 68,
     "metadata": {},
     "output_type": "execute_result"
    },
    {
     "data": {
      "image/png": "[encoded data removed]",
      "text/plain": [
       "<Figure size 1080x288 with 1 Axes>"
      ]
     },
     "metadata": {
      "needs_background": "light"
     },
     "output_type": "display_data"
    }
   ],
   "source": [
    "# set figure size\n",
    "plt.figure(figsize=(15,4))\n",
    "\n",
    "sns.lineplot(x=\"Date\", y=\"Hospitalised\", hue=\"Sub-region Name\", data=uk_covid_cases)\n",
    "\n",
    "#Annotate chart for better comprehension\n",
    "plt.title(\"Time series of Hospitalisation over time\")"
   ]
  },
  {
   "cell_type": "code",
   "execution_count": 69,
   "id": "53190f20",
   "metadata": {},
   "outputs": [
    {
     "data": {
      "text/plain": [
       "<AxesSubplot:xlabel='Date', ylabel='Hospitalised'>"
      ]
     },
     "execution_count": 69,
     "metadata": {},
     "output_type": "execute_result"
    },
    {
     "data": {
      "image/png": "[encoded data removed]",
      "text/plain": [
       "<Figure size 1080x288 with 1 Axes>"
      ]
     },
     "metadata": {
      "needs_background": "light"
     },
     "output_type": "display_data"
    }
   ],
   "source": [
    "# set figure size\n",
    "plt.figure(figsize=(15,4))\n",
    "\n",
    "sns.lineplot(x=\"Date\", y=\"Hospitalised\", hue=\"Province/State\", data=uk_covid_cases)"
   ]
  },
  {
   "cell_type": "markdown",
   "id": "f6936f8a",
   "metadata": {},
   "source": [
    "# 7.7 Linear graph of peak trends in different regions; are their any interesting behaviors in time between the regions? "
   ]
  },
  {
   "cell_type": "markdown",
   "id": "ab2c9512",
   "metadata": {},
   "source": [
    "### Overall Business Insight: Southern Europea had the highest amount of recoveries. A drop then happened in the data, to be investigated further."
   ]
  },
  {
   "cell_type": "code",
   "execution_count": 70,
   "id": "c37051f3",
   "metadata": {},
   "outputs": [
    {
     "data": {
      "text/plain": [
       "Text(0.5, 1.0, 'Trend of Recoveries over time')"
      ]
     },
     "execution_count": 70,
     "metadata": {},
     "output_type": "execute_result"
    },
    {
     "data": {
      "image/png": "[encoded data removed]",
      "text/plain": [
       "<Figure size 1080x288 with 1 Axes>"
      ]
     },
     "metadata": {
      "needs_background": "light"
     },
     "output_type": "display_data"
    }
   ],
   "source": [
    "# set figure size\n",
    "plt.figure(figsize=(15,4))\n",
    "\n",
    "sns.lineplot(x=\"Date\", y=\"Recovered\", hue=\"Sub-region Name\", data=uk_covid_cases)\n",
    "\n",
    "#Annotate chart for better comprehension\n",
    "plt.title(\"Trend of Recoveries over time\")"
   ]
  },
  {
   "cell_type": "markdown",
   "id": "281344eb",
   "metadata": {},
   "source": [
    "# 7.8 What is the potential future outcome on trends in the hospitalization rates in different regions."
   ]
  },
  {
   "cell_type": "markdown",
   "id": "2af50b3b",
   "metadata": {},
   "source": [
    "### Overall Business Insight: Having take a 6 month moving average, we can say the trend is downwards."
   ]
  },
  {
   "cell_type": "code",
   "execution_count": 71,
   "id": "ad72b9db",
   "metadata": {},
   "outputs": [
    {
     "data": {
      "text/html": [
       "<div>\n",
       "<style scoped>\n",
       "    .dataframe tbody tr th:only-of-type {\n",
       "        vertical-align: middle;\n",
       "    }\n",
       "\n",
       "    .dataframe tbody tr th {\n",
       "        vertical-align: top;\n",
       "    }\n",
       "\n",
       "    .dataframe thead th {\n",
       "        text-align: right;\n",
       "    }\n",
       "</style>\n",
       "<table border=\"1\" class=\"dataframe\">\n",
       "  <thead>\n",
       "    <tr style=\"text-align: right;\">\n",
       "      <th></th>\n",
       "      <th>Sub-region Name</th>\n",
       "      <th>Deaths</th>\n",
       "      <th>Cases</th>\n",
       "      <th>Recovered</th>\n",
       "      <th>Hospitalised</th>\n",
       "    </tr>\n",
       "    <tr>\n",
       "      <th>Date</th>\n",
       "      <th></th>\n",
       "      <th></th>\n",
       "      <th></th>\n",
       "      <th></th>\n",
       "      <th></th>\n",
       "    </tr>\n",
       "  </thead>\n",
       "  <tbody>\n",
       "    <tr>\n",
       "      <th>2020-01-22</th>\n",
       "      <td>Latin America and the Caribbean</td>\n",
       "      <td>0.0</td>\n",
       "      <td>0.0</td>\n",
       "      <td>0.0</td>\n",
       "      <td>0.0</td>\n",
       "    </tr>\n",
       "    <tr>\n",
       "      <th>2020-01-22</th>\n",
       "      <td>Latin America and the Caribbean</td>\n",
       "      <td>0.0</td>\n",
       "      <td>0.0</td>\n",
       "      <td>0.0</td>\n",
       "      <td>0.0</td>\n",
       "    </tr>\n",
       "    <tr>\n",
       "      <th>2020-01-22</th>\n",
       "      <td>Latin America and the Caribbean</td>\n",
       "      <td>0.0</td>\n",
       "      <td>0.0</td>\n",
       "      <td>0.0</td>\n",
       "      <td>0.0</td>\n",
       "    </tr>\n",
       "    <tr>\n",
       "      <th>2020-01-22</th>\n",
       "      <td>Northern Europe</td>\n",
       "      <td>0.0</td>\n",
       "      <td>0.0</td>\n",
       "      <td>0.0</td>\n",
       "      <td>0.0</td>\n",
       "    </tr>\n",
       "    <tr>\n",
       "      <th>2020-01-22</th>\n",
       "      <td>Northern Europe</td>\n",
       "      <td>0.0</td>\n",
       "      <td>0.0</td>\n",
       "      <td>0.0</td>\n",
       "      <td>0.0</td>\n",
       "    </tr>\n",
       "  </tbody>\n",
       "</table>\n",
       "</div>"
      ],
      "text/plain": [
       "                            Sub-region Name  Deaths  Cases  Recovered  \\\n",
       "Date                                                                    \n",
       "2020-01-22  Latin America and the Caribbean     0.0    0.0        0.0   \n",
       "2020-01-22  Latin America and the Caribbean     0.0    0.0        0.0   \n",
       "2020-01-22  Latin America and the Caribbean     0.0    0.0        0.0   \n",
       "2020-01-22                  Northern Europe     0.0    0.0        0.0   \n",
       "2020-01-22                  Northern Europe     0.0    0.0        0.0   \n",
       "\n",
       "            Hospitalised  \n",
       "Date                      \n",
       "2020-01-22           0.0  \n",
       "2020-01-22           0.0  \n",
       "2020-01-22           0.0  \n",
       "2020-01-22           0.0  \n",
       "2020-01-22           0.0  "
      ]
     },
     "execution_count": 71,
     "metadata": {},
     "output_type": "execute_result"
    }
   ],
   "source": [
    "#Ensuring the index is the date\n",
    "uk_covid_cases_three.head()"
   ]
  },
  {
   "cell_type": "code",
   "execution_count": 72,
   "id": "22cc52d4",
   "metadata": {},
   "outputs": [
    {
     "data": {
      "text/plain": [
       "Text(0.5, 1.0, 'Country Hospitalisation trend')"
      ]
     },
     "execution_count": 72,
     "metadata": {},
     "output_type": "execute_result"
    },
    {
     "data": {
      "image/png": "[encoded data removed]",
      "text/plain": [
       "<Figure size 1080x288 with 1 Axes>"
      ]
     },
     "metadata": {
      "needs_background": "light"
     },
     "output_type": "display_data"
    }
   ],
   "source": [
    "# set figure size\n",
    "plt.figure(figsize=(15,4))\n",
    "\n",
    "#plot the data\n",
    "uk_covid_cases_three['Hospitalised'].plot()\n",
    "\n",
    "#Annotate chart for better comprehension\n",
    "plt.title(\"Country Hospitalisation trend\")"
   ]
  },
  {
   "cell_type": "code",
   "execution_count": 73,
   "id": "56afc25d",
   "metadata": {},
   "outputs": [
    {
     "data": {
      "text/plain": [
       "Text(0.5, 1.0, '6 Month MVA Country Hospitalisation Trend')"
      ]
     },
     "execution_count": 73,
     "metadata": {},
     "output_type": "execute_result"
    },
    {
     "data": {
      "image/png": "[encoded data removed]",
      "text/plain": [
       "<Figure size 1080x288 with 1 Axes>"
      ]
     },
     "metadata": {
      "needs_background": "light"
     },
     "output_type": "display_data"
    }
   ],
   "source": [
    "# set figure size\n",
    "plt.figure(figsize=(15,4))\n",
    "\n",
    "#plot the data\n",
    "uk_covid_cases_three['Hospitalised'].plot()\n",
    "\n",
    "#Set the moving average at 6 months \n",
    "uk_covid_cases_three['Hospitalised'].rolling(window=180).mean().plot()\n",
    "\n",
    "#Annotate chart for better comprehension\n",
    "plt.title(\"6 Month MVA Country Hospitalisation Trend\")"
   ]
  },
  {
   "cell_type": "code",
   "execution_count": null,
   "id": "55c5d5f6",
   "metadata": {},
   "outputs": [],
   "source": []
  }
 ],
 "metadata": {
  "kernelspec": {
   "display_name": "Python 3 (ipykernel)",
   "language": "python",
   "name": "python3"
  },
  "language_info": {
   "codemirror_mode": {
    "name": "ipython",
    "version": 3
   },
   "file_extension": ".py",
   "mimetype": "text/x-python",
   "name": "python",
   "nbconvert_exporter": "python",
   "pygments_lexer": "ipython3",
   "version": "3.9.7"
  }
 },
 "nbformat": 4,
 "nbformat_minor": 5
}
